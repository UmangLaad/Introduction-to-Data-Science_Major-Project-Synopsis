{
 "cells": [
  {
   "cell_type": "code",
   "execution_count": 1,
   "id": "6417ba50",
   "metadata": {},
   "outputs": [
    {
     "data": {
      "text/plain": [
       "'C:\\\\Users\\\\laad_'"
      ]
     },
     "execution_count": 1,
     "metadata": {},
     "output_type": "execute_result"
    }
   ],
   "source": [
    "pwd"
   ]
  },
  {
   "cell_type": "markdown",
   "id": "fa742620",
   "metadata": {},
   "source": [
    "### 1. Install and Import Baseline Dependencies"
   ]
  },
  {
   "cell_type": "code",
   "execution_count": 3,
   "id": "91dac08a",
   "metadata": {},
   "outputs": [
    {
     "name": "stdout",
     "output_type": "stream",
     "text": [
      "Requirement already satisfied: transformers in c:\\users\\laad_\\anaconda3\\lib\\site-packages (4.23.1)\n",
      "Requirement already satisfied: pyyaml>=5.1 in c:\\users\\laad_\\anaconda3\\lib\\site-packages (from transformers) (5.4.1)\n",
      "Requirement already satisfied: filelock in c:\\users\\laad_\\anaconda3\\lib\\site-packages (from transformers) (3.0.12)\n",
      "Requirement already satisfied: numpy>=1.17 in c:\\users\\laad_\\anaconda3\\lib\\site-packages (from transformers) (1.20.1)\n",
      "Requirement already satisfied: regex!=2019.12.17 in c:\\users\\laad_\\anaconda3\\lib\\site-packages (from transformers) (2021.4.4)\n",
      "Requirement already satisfied: tokenizers!=0.11.3,<0.14,>=0.11.1 in c:\\users\\laad_\\anaconda3\\lib\\site-packages (from transformers) (0.13.1)\n",
      "Requirement already satisfied: requests in c:\\users\\laad_\\anaconda3\\lib\\site-packages (from transformers) (2.25.1)\n",
      "Requirement already satisfied: tqdm>=4.27 in c:\\users\\laad_\\anaconda3\\lib\\site-packages (from transformers) (4.59.0)\n",
      "Requirement already satisfied: packaging>=20.0 in c:\\users\\laad_\\anaconda3\\lib\\site-packages (from transformers) (20.9)\n",
      "Requirement already satisfied: huggingface-hub<1.0,>=0.10.0 in c:\\users\\laad_\\anaconda3\\lib\\site-packages (from transformers) (0.10.1)\n",
      "Requirement already satisfied: typing-extensions>=3.7.4.3 in c:\\users\\laad_\\anaconda3\\lib\\site-packages (from huggingface-hub<1.0,>=0.10.0->transformers) (3.7.4.3)\n",
      "Requirement already satisfied: pyparsing>=2.0.2 in c:\\users\\laad_\\anaconda3\\lib\\site-packages (from packaging>=20.0->transformers) (2.4.7)\n",
      "Requirement already satisfied: idna<3,>=2.5 in c:\\users\\laad_\\anaconda3\\lib\\site-packages (from requests->transformers) (2.10)\n",
      "Requirement already satisfied: certifi>=2017.4.17 in c:\\users\\laad_\\anaconda3\\lib\\site-packages (from requests->transformers) (2020.12.5)\n",
      "Requirement already satisfied: chardet<5,>=3.0.2 in c:\\users\\laad_\\anaconda3\\lib\\site-packages (from requests->transformers) (4.0.0)\n",
      "Requirement already satisfied: urllib3<1.27,>=1.21.1 in c:\\users\\laad_\\anaconda3\\lib\\site-packages (from requests->transformers) (1.26.4)\n",
      "Note: you may need to restart the kernel to use updated packages.\n"
     ]
    }
   ],
   "source": [
    "pip install transformers"
   ]
  },
  {
   "cell_type": "code",
   "execution_count": 4,
   "id": "64b3dc22",
   "metadata": {},
   "outputs": [
    {
     "name": "stdout",
     "output_type": "stream",
     "text": [
      "Requirement already satisfied: sentencepiece in c:\\users\\laad_\\anaconda3\\lib\\site-packages (0.1.97)\n",
      "Note: you may need to restart the kernel to use updated packages.\n"
     ]
    }
   ],
   "source": [
    "pip install sentencepiece"
   ]
  },
  {
   "cell_type": "code",
   "execution_count": 5,
   "id": "3562c670",
   "metadata": {},
   "outputs": [
    {
     "name": "stdout",
     "output_type": "stream",
     "text": [
      "Requirement already satisfied: beautifulsoup4 in c:\\users\\laad_\\anaconda3\\lib\\site-packages (4.9.3)\n",
      "Requirement already satisfied: soupsieve>1.2 in c:\\users\\laad_\\anaconda3\\lib\\site-packages (from beautifulsoup4) (2.2.1)\n",
      "Note: you may need to restart the kernel to use updated packages.\n"
     ]
    }
   ],
   "source": [
    "pip install beautifulsoup4"
   ]
  },
  {
   "cell_type": "code",
   "execution_count": 6,
   "id": "7c3b8660",
   "metadata": {},
   "outputs": [],
   "source": [
    "from transformers import PegasusTokenizer, PegasusForConditionalGeneration\n",
    "from bs4 import BeautifulSoup\n",
    "import requests\n",
    "import re\n",
    "from transformers import pipeline\n",
    "import csv"
   ]
  },
  {
   "cell_type": "markdown",
   "id": "574896a1",
   "metadata": {},
   "source": [
    "### 2. Setup Model"
   ]
  },
  {
   "cell_type": "code",
   "execution_count": 8,
   "id": "d9571cff",
   "metadata": {},
   "outputs": [],
   "source": [
    "model_name = \"human-centered-summarization/financial-summarization-pegasus\"\n",
    "tokenizer = PegasusTokenizer.from_pretrained(model_name)\n",
    "model = PegasusForConditionalGeneration.from_pretrained(model_name)"
   ]
  },
  {
   "cell_type": "markdown",
   "id": "7f685d7a",
   "metadata": {},
   "source": [
    "### 3. Summarize a Single Article"
   ]
  },
  {
   "cell_type": "code",
   "execution_count": 10,
   "id": "ad72cbab",
   "metadata": {},
   "outputs": [],
   "source": [
    "url = \"https://www.thestreet.com/technology/toyota-about-to-make-a-big-change-to-challenge-tesla?puc=yahoo&cm_ven=YAHOO\"\n",
    "r = requests.get(url)\n",
    "soup = BeautifulSoup(r.text, 'html.parser')\n",
    "paragraphs =  soup.find_all('p')"
   ]
  },
  {
   "cell_type": "code",
   "execution_count": 11,
   "id": "56e43ea4",
   "metadata": {},
   "outputs": [
    {
     "data": {
      "text/plain": [
       "[<p>Toyota <span> (<strong><a href=\"https://www.thestreet.com/quote/TM\">TM</a></strong>) </span> seems set to do an about-face. </p>,\n",
       " <p>In the face of the industrywide race toward electric vehicles, the Japanese automaker has boasted of its unique strategy.</p>,\n",
       " <p>For Toyota, the world's second largest automotive group based on market value behind Tesla <span> (<strong><a href=\"https://www.thestreet.com/quote/TSLA\">TSLA</a></strong>) </span>, a strategy combining gasoline vehicles and less-polluting ones is the recipe. </p>,\n",
       " <p>Instead of going full electric, the group has long favored hybrids, which have earned it consistent support from environmental activists. The Toyota Prius has been a model for environmentally conscious consumers.</p>,\n",
       " <p>Toyota has tried to go it alone on one strategy: <a href=\"https://www.thestreet.com/investing/etfs/how-to-invest-in-hydrogen-an-alternative-to-fossil-fuel-energy\">hydrogen</a>-fuel-cell cars. The Toyota Mirai is the only fuel-cell car on the market. </p>,\n",
       " <p>In early October, Chief Executive Akio Toyoda confirmed that the vehicle manufacturer would unveil a lineup of electrified vehicles that run on liquid hydrogen and traditional rechargeable <a href=\"https://www.thestreet.com/investing/etfs/how-to-invest-in-the-lithium-thats-driving-the-ev-market\">lithium</a>-ion battery packs.</p>,\n",
       " <p>Toyota hopes to invest $70 billion in electrified vehicles, with half that figure in 100% electric vehicles. Unlike other manufacturers, the group's carbon-emissions-reduction strategy is not centered on battery electric vehicles, </p>,\n",
       " <p>Toyota plans to produce only 3.5 million electric vehicles by 2030, or only a third of its total vehicles. Tesla, the market leader, plans to produce 20 million electric vehicles a year by 2030.</p>,\n",
       " <p>By comparison, GM <span> (<strong><a href=\"https://www.thestreet.com/quote/GM\">GM</a></strong>) </span> and Ford <span> (<strong><a href=\"https://www.thestreet.com/quote/F\">F</a></strong>) </span>, two legacy automakers promise that electric vehicles will make up a majority of their sales in the coming years.</p>,\n",
       " <p>In 2019, Toyota unveiled e-TNGA, a platform that could be configured for various battery and electric-motor combinations. But the bZ4X, the very first 100% electric vehicle developed on this platform, was the subject of a recall shortly after the start of marketing.</p>,\n",
       " <p>The platform was another sign that Toyota favored hybrid vehicles, even as <a href=\"https://www.greenpeace.org/eastasia/press/7611/nissan-and-honda-drop-in-greenpeace-auto-ranking/\" onclick=\"return phoenixTrackClickEvent(this, event);\" rel=\"noopener\" target=\"_blank\">Greenpeace</a> considered Toyota to be the slowest legacy automaker to make the transition to zero-emission vehicles.</p>,\n",
       " <p>But Toyota now appears to have heard the critics and is about to change its strategy to give EVs a big hand in decarbonizing its production lines. <br/></p>,\n",
       " <p>According to <a href=\"https://www.reuters.com/business/autos-transportation/exclusive-toyota-scrambles-ev-reboot-with-eye-tesla-2022-10-24/\" onclick=\"return phoenixTrackClickEvent(this, event);\" rel=\"noopener\" target=\"_blank\">Reuters</a>, the firm is considering a reboot of its EV strategy to better compete. </p>,\n",
       " <p>It has halted some work on existing EV projects, such as the Toyota Compact Cruiser crossover and the battery-electric Crown.</p>,\n",
       " <p>\"A working group within Toyota has been charged with outlining plans by early next year for improvements to its existing EV platform or for a new architecture,\" Reuters wrote, citing sources close to the matter.</p>,\n",
       " <p>Its conclusions are expected in early 2023.</p>,\n",
       " <p>The decision is said to be motivated by Toyota's recognition that consumers are adopting electric vehicles at a faster rate than it thought. </p>,\n",
       " <p>Global EV sales reached a record 6.3 million units in 2021, more than double the year-earlier figure, with this number expected to rise to 26.8 million units in 2030, according to <a href=\"https://www.spglobal.com/commodityinsights/en/market-insights/latest-news/energy-transition/021622-global-light-duty-ev-sales-to-rise-to-268-mil-by-2030-platts-analytics\" onclick=\"return phoenixTrackClickEvent(this, event);\" rel=\"noopener\" target=\"_blank\">S&amp;P Global Platts Analytics</a>.</p>,\n",
       " <p>\"We have seen governments worldwide introduce legislation funding EV-charging-infrastructure expansion, increased domestic EV production capabilities and numerous countries set ICE sales phase-out targets or bans as early as 2025,\" said David Capati, low carbon transport analyst at Platts Analytics.</p>,\n",
       " <p>\"Auto manufacturers across the world have also invested over a half-trillion dollars in increasing every facet of their EV capacities in the next decade,\" he added.</p>,\n",
       " <p>Toyota also may have figured that Tesla, for example, saw more savings in its factories than it did. </p>,\n",
       " <p>\"In order to achieve carbon neutrality, it is essential not only to develop our own technologies, but also to collaborate with various partners and suppliers, including those in the automotive industry,\" Toyota said in an emailed statement.</p>,\n",
       " <p>\"We are always actively discussing and working with key stakeholders on a variety of topics, but we have no details to share at this time regarding development projects beyond those we have already disclosed.”</p>]"
      ]
     },
     "execution_count": 11,
     "metadata": {},
     "output_type": "execute_result"
    }
   ],
   "source": [
    "paragraphs"
   ]
  },
  {
   "cell_type": "code",
   "execution_count": 15,
   "id": "a5a84e50",
   "metadata": {},
   "outputs": [],
   "source": [
    "text = [paragraph.text for paragraph in paragraphs]\n",
    "words = ' '.join(text).split(' ')[:400]\n",
    "ARTICLE = ' '.join(words)"
   ]
  },
  {
   "cell_type": "code",
   "execution_count": 17,
   "id": "f0eb38af",
   "metadata": {},
   "outputs": [
    {
     "data": {
      "text/plain": [
       "['Toyota\\xa0',\n",
       " '(TM)',\n",
       " '',\n",
       " 'seems',\n",
       " 'set',\n",
       " 'to',\n",
       " 'do',\n",
       " 'an',\n",
       " 'about-face.\\xa0',\n",
       " 'In',\n",
       " 'the',\n",
       " 'face',\n",
       " 'of',\n",
       " 'the',\n",
       " 'industrywide',\n",
       " 'race',\n",
       " 'toward',\n",
       " 'electric',\n",
       " 'vehicles,',\n",
       " 'the',\n",
       " 'Japanese',\n",
       " 'automaker',\n",
       " 'has',\n",
       " 'boasted',\n",
       " 'of',\n",
       " 'its',\n",
       " 'unique',\n",
       " 'strategy.',\n",
       " 'For',\n",
       " 'Toyota,',\n",
       " 'the',\n",
       " \"world's\",\n",
       " 'second',\n",
       " 'largest',\n",
       " 'automotive',\n",
       " 'group',\n",
       " 'based',\n",
       " 'on',\n",
       " 'market',\n",
       " 'value',\n",
       " 'behind',\n",
       " 'Tesla\\xa0',\n",
       " '(TSLA)',\n",
       " ',',\n",
       " 'a',\n",
       " 'strategy',\n",
       " 'combining',\n",
       " 'gasoline',\n",
       " 'vehicles',\n",
       " 'and',\n",
       " 'less-polluting',\n",
       " 'ones',\n",
       " 'is',\n",
       " 'the',\n",
       " 'recipe.\\xa0',\n",
       " 'Instead',\n",
       " 'of',\n",
       " 'going',\n",
       " 'full',\n",
       " 'electric,',\n",
       " 'the',\n",
       " 'group',\n",
       " 'has',\n",
       " 'long',\n",
       " 'favored',\n",
       " 'hybrids,',\n",
       " 'which',\n",
       " 'have',\n",
       " 'earned',\n",
       " 'it',\n",
       " 'consistent',\n",
       " 'support',\n",
       " 'from',\n",
       " 'environmental',\n",
       " 'activists.',\n",
       " 'The',\n",
       " 'Toyota',\n",
       " 'Prius',\n",
       " 'has',\n",
       " 'been',\n",
       " 'a',\n",
       " 'model',\n",
       " 'for',\n",
       " 'environmentally',\n",
       " 'conscious',\n",
       " 'consumers.',\n",
       " 'Toyota',\n",
       " 'has',\n",
       " 'tried',\n",
       " 'to',\n",
       " 'go',\n",
       " 'it',\n",
       " 'alone',\n",
       " 'on',\n",
       " 'one',\n",
       " 'strategy:',\n",
       " 'hydrogen-fuel-cell',\n",
       " 'cars.',\n",
       " 'The',\n",
       " 'Toyota',\n",
       " 'Mirai',\n",
       " 'is',\n",
       " 'the',\n",
       " 'only',\n",
       " 'fuel-cell',\n",
       " 'car',\n",
       " 'on',\n",
       " 'the',\n",
       " 'market.\\xa0',\n",
       " 'In',\n",
       " 'early',\n",
       " 'October,',\n",
       " 'Chief',\n",
       " 'Executive',\n",
       " 'Akio',\n",
       " 'Toyoda',\n",
       " 'confirmed',\n",
       " 'that',\n",
       " 'the',\n",
       " 'vehicle',\n",
       " 'manufacturer',\n",
       " 'would',\n",
       " 'unveil',\n",
       " 'a',\n",
       " 'lineup',\n",
       " 'of',\n",
       " 'electrified',\n",
       " 'vehicles',\n",
       " 'that',\n",
       " 'run',\n",
       " 'on',\n",
       " 'liquid',\n",
       " 'hydrogen',\n",
       " 'and',\n",
       " 'traditional',\n",
       " 'rechargeable',\n",
       " 'lithium-ion',\n",
       " 'battery',\n",
       " 'packs.',\n",
       " 'Toyota',\n",
       " 'hopes',\n",
       " 'to',\n",
       " 'invest',\n",
       " '$70',\n",
       " 'billion',\n",
       " 'in',\n",
       " 'electrified',\n",
       " 'vehicles,',\n",
       " 'with',\n",
       " 'half',\n",
       " 'that',\n",
       " 'figure',\n",
       " 'in',\n",
       " '100%',\n",
       " 'electric',\n",
       " 'vehicles.',\n",
       " 'Unlike',\n",
       " 'other',\n",
       " 'manufacturers,',\n",
       " 'the',\n",
       " \"group's\",\n",
       " 'carbon-emissions-reduction',\n",
       " 'strategy',\n",
       " 'is',\n",
       " 'not',\n",
       " 'centered',\n",
       " 'on',\n",
       " 'battery',\n",
       " 'electric',\n",
       " 'vehicles,\\xa0',\n",
       " 'Toyota',\n",
       " 'plans',\n",
       " 'to',\n",
       " 'produce',\n",
       " 'only',\n",
       " '3.5',\n",
       " 'million',\n",
       " 'electric',\n",
       " 'vehicles',\n",
       " 'by',\n",
       " '2030,',\n",
       " 'or',\n",
       " 'only',\n",
       " 'a',\n",
       " 'third',\n",
       " 'of',\n",
       " 'its',\n",
       " 'total',\n",
       " 'vehicles.\\xa0Tesla,',\n",
       " 'the',\n",
       " 'market',\n",
       " 'leader,',\n",
       " 'plans',\n",
       " 'to',\n",
       " 'produce',\n",
       " '20',\n",
       " 'million',\n",
       " 'electric',\n",
       " 'vehicles',\n",
       " 'a',\n",
       " 'year',\n",
       " 'by',\n",
       " '2030.',\n",
       " 'By',\n",
       " 'comparison,',\n",
       " 'GM\\xa0',\n",
       " '(GM)',\n",
       " '',\n",
       " 'and',\n",
       " 'Ford\\xa0',\n",
       " '(F)',\n",
       " ',',\n",
       " 'two',\n",
       " 'legacy',\n",
       " 'automakers',\n",
       " 'promise',\n",
       " 'that',\n",
       " 'electric',\n",
       " 'vehicles',\n",
       " 'will',\n",
       " 'make',\n",
       " 'up',\n",
       " 'a',\n",
       " 'majority',\n",
       " 'of',\n",
       " 'their',\n",
       " 'sales',\n",
       " 'in',\n",
       " 'the',\n",
       " 'coming',\n",
       " 'years.',\n",
       " 'In',\n",
       " '2019,',\n",
       " 'Toyota',\n",
       " 'unveiled',\n",
       " 'e-TNGA,',\n",
       " 'a',\n",
       " 'platform',\n",
       " 'that',\n",
       " 'could',\n",
       " 'be',\n",
       " 'configured',\n",
       " 'for',\n",
       " 'various',\n",
       " 'battery',\n",
       " 'and',\n",
       " 'electric-motor',\n",
       " 'combinations.',\n",
       " 'But',\n",
       " 'the',\n",
       " 'bZ4X,',\n",
       " 'the',\n",
       " 'very',\n",
       " 'first',\n",
       " '100%',\n",
       " 'electric',\n",
       " 'vehicle',\n",
       " 'developed',\n",
       " 'on',\n",
       " 'this',\n",
       " 'platform,',\n",
       " 'was',\n",
       " 'the',\n",
       " 'subject',\n",
       " 'of',\n",
       " 'a',\n",
       " 'recall',\n",
       " 'shortly',\n",
       " 'after',\n",
       " 'the',\n",
       " 'start',\n",
       " 'of',\n",
       " 'marketing.',\n",
       " 'The',\n",
       " 'platform',\n",
       " 'was',\n",
       " 'another',\n",
       " 'sign',\n",
       " 'that',\n",
       " 'Toyota\\xa0favored',\n",
       " 'hybrid',\n",
       " 'vehicles,',\n",
       " 'even',\n",
       " 'as',\n",
       " 'Greenpeace\\xa0considered',\n",
       " 'Toyota',\n",
       " 'to',\n",
       " 'be',\n",
       " 'the',\n",
       " 'slowest',\n",
       " 'legacy',\n",
       " 'automaker',\n",
       " 'to',\n",
       " 'make',\n",
       " 'the',\n",
       " 'transition',\n",
       " 'to',\n",
       " 'zero-emission',\n",
       " 'vehicles.',\n",
       " 'But',\n",
       " 'Toyota',\n",
       " 'now',\n",
       " 'appears',\n",
       " 'to',\n",
       " 'have',\n",
       " 'heard',\n",
       " 'the',\n",
       " 'critics',\n",
       " 'and',\n",
       " 'is',\n",
       " 'about',\n",
       " 'to',\n",
       " 'change',\n",
       " 'its',\n",
       " 'strategy',\n",
       " 'to',\n",
       " 'give',\n",
       " 'EVs',\n",
       " 'a',\n",
       " 'big',\n",
       " 'hand',\n",
       " 'in',\n",
       " 'decarbonizing',\n",
       " 'its',\n",
       " 'production',\n",
       " 'lines.\\xa0',\n",
       " 'According',\n",
       " 'to',\n",
       " 'Reuters,',\n",
       " 'the',\n",
       " 'firm',\n",
       " 'is',\n",
       " 'considering',\n",
       " 'a',\n",
       " 'reboot',\n",
       " 'of',\n",
       " 'its',\n",
       " 'EV',\n",
       " 'strategy',\n",
       " 'to',\n",
       " 'better',\n",
       " 'compete.\\xa0',\n",
       " 'It',\n",
       " 'has',\n",
       " 'halted',\n",
       " 'some',\n",
       " 'work',\n",
       " 'on',\n",
       " 'existing',\n",
       " 'EV',\n",
       " 'projects,',\n",
       " 'such',\n",
       " 'as',\n",
       " 'the',\n",
       " 'Toyota',\n",
       " 'Compact',\n",
       " 'Cruiser',\n",
       " 'crossover',\n",
       " 'and',\n",
       " 'the',\n",
       " 'battery-electric',\n",
       " 'Crown.',\n",
       " '\"A',\n",
       " 'working',\n",
       " 'group',\n",
       " 'within',\n",
       " 'Toyota',\n",
       " 'has',\n",
       " 'been',\n",
       " 'charged',\n",
       " 'with',\n",
       " 'outlining',\n",
       " 'plans',\n",
       " 'by',\n",
       " 'early',\n",
       " 'next',\n",
       " 'year',\n",
       " 'for',\n",
       " 'improvements',\n",
       " 'to',\n",
       " 'its',\n",
       " 'existing',\n",
       " 'EV',\n",
       " 'platform',\n",
       " 'or',\n",
       " 'for',\n",
       " 'a',\n",
       " 'new',\n",
       " 'architecture,\"',\n",
       " 'Reuters',\n",
       " 'wrote,',\n",
       " 'citing',\n",
       " 'sources',\n",
       " 'close',\n",
       " 'to',\n",
       " 'the',\n",
       " 'matter.',\n",
       " 'Its',\n",
       " 'conclusions',\n",
       " 'are']"
      ]
     },
     "execution_count": 17,
     "metadata": {},
     "output_type": "execute_result"
    }
   ],
   "source": [
    "words"
   ]
  },
  {
   "cell_type": "code",
   "execution_count": 19,
   "id": "e9da7b3a",
   "metadata": {},
   "outputs": [
    {
     "data": {
      "text/plain": [
       "400"
      ]
     },
     "execution_count": 19,
     "metadata": {},
     "output_type": "execute_result"
    }
   ],
   "source": [
    "len(words)"
   ]
  },
  {
   "cell_type": "code",
   "execution_count": 21,
   "id": "f07d3e76",
   "metadata": {},
   "outputs": [
    {
     "data": {
      "text/plain": [
       "'Toyota\\xa0 (TM)  seems set to do an about-face.\\xa0 In the face of the industrywide race toward electric vehicles, the Japanese automaker has boasted of its unique strategy. For Toyota, the world\\'s second largest automotive group based on market value behind Tesla\\xa0 (TSLA) , a strategy combining gasoline vehicles and less-polluting ones is the recipe.\\xa0 Instead of going full electric, the group has long favored hybrids, which have earned it consistent support from environmental activists. The Toyota Prius has been a model for environmentally conscious consumers. Toyota has tried to go it alone on one strategy: hydrogen-fuel-cell cars. The Toyota Mirai is the only fuel-cell car on the market.\\xa0 In early October, Chief Executive Akio Toyoda confirmed that the vehicle manufacturer would unveil a lineup of electrified vehicles that run on liquid hydrogen and traditional rechargeable lithium-ion battery packs. Toyota hopes to invest $70 billion in electrified vehicles, with half that figure in 100% electric vehicles. Unlike other manufacturers, the group\\'s carbon-emissions-reduction strategy is not centered on battery electric vehicles,\\xa0 Toyota plans to produce only 3.5 million electric vehicles by 2030, or only a third of its total vehicles.\\xa0Tesla, the market leader, plans to produce 20 million electric vehicles a year by 2030. By comparison, GM\\xa0 (GM)  and Ford\\xa0 (F) , two legacy automakers promise that electric vehicles will make up a majority of their sales in the coming years. In 2019, Toyota unveiled e-TNGA, a platform that could be configured for various battery and electric-motor combinations. But the bZ4X, the very first 100% electric vehicle developed on this platform, was the subject of a recall shortly after the start of marketing. The platform was another sign that Toyota\\xa0favored hybrid vehicles, even as Greenpeace\\xa0considered Toyota to be the slowest legacy automaker to make the transition to zero-emission vehicles. But Toyota now appears to have heard the critics and is about to change its strategy to give EVs a big hand in decarbonizing its production lines.\\xa0 According to Reuters, the firm is considering a reboot of its EV strategy to better compete.\\xa0 It has halted some work on existing EV projects, such as the Toyota Compact Cruiser crossover and the battery-electric Crown. \"A working group within Toyota has been charged with outlining plans by early next year for improvements to its existing EV platform or for a new architecture,\" Reuters wrote, citing sources close to the matter. Its conclusions are'"
      ]
     },
     "execution_count": 21,
     "metadata": {},
     "output_type": "execute_result"
    }
   ],
   "source": [
    "ARTICLE"
   ]
  },
  {
   "cell_type": "code",
   "execution_count": 43,
   "id": "3654d0c6",
   "metadata": {},
   "outputs": [],
   "source": [
    "input_ids = tokenizer.encode(ARTICLE, return_tensors='pt')\n",
    "output = model.generate(input_ids, max_length=55, num_beams=5, early_stopping=True)\n",
    "summary = tokenizer.decode(output[0], skip_special_tokens=True)"
   ]
  },
  {
   "cell_type": "code",
   "execution_count": 42,
   "id": "4a4317a5",
   "metadata": {},
   "outputs": [
    {
     "data": {
      "text/plain": [
       "'Work on existing electric vehicle platforms has been halted, Reuters reports.'"
      ]
     },
     "execution_count": 42,
     "metadata": {},
     "output_type": "execute_result"
    }
   ],
   "source": [
    "summary"
   ]
  },
  {
   "cell_type": "code",
   "execution_count": 40,
   "id": "1050992d",
   "metadata": {},
   "outputs": [
    {
     "data": {
      "text/plain": [
       "tensor([[ 6190,   143,  2259,   158,  1045,   323,   112,   171,   142,   160,\n",
       "           121,  7998,   107,   222,   109,   749,   113,   109,   503,  5650,\n",
       "          1580,  2153,  2425,  2070,   108,   109,  2769, 32930,   148, 39630,\n",
       "           113,   203,   620,  1520,   107,   321,  6190,   108,   109,   278,\n",
       "           131,   116,   453,  1368,  6090,   456,   451,   124,   407,   564,\n",
       "           893, 11997,   143, 72495,   251,   158,   110,   108,   114,  1520,\n",
       "          6839, 14255,  2070,   111,   478,   121, 32952, 34752,  1304,   117,\n",
       "           109,  1869,   107,  3054,   113,   313,   357,  2425,   108,   109,\n",
       "           456,   148,   300, 17902, 34377,   108,   162,   133,  3032,   126,\n",
       "          3302,   337,   135,  2249, 10162,   107,   139,  6190, 37269,   148,\n",
       "           174,   114,   861,   118,  8641,  7394,  2359,   107,  6190,   148,\n",
       "          1424,   112,   275,   126,  1600,   124,   156,  1520,   151, 13535,\n",
       "           121, 25475,   121, 12052,  1732,   107,   139,  6190, 85196,   117,\n",
       "           109,   209,  2322,   121, 12052,   439,   124,   109,   407,   107,\n",
       "           222,   616,  1350,   108,  3670,  3665,   202, 74196, 69344,  3347,\n",
       "          3542,   120,   109,  1143,  2845,   192, 29158,   114,  8178,   113,\n",
       "         63519,  2070,   120,   550,   124,  3919, 13535,   111,  1113, 26141,\n",
       "         17935,   121,  2928,  2221,  7799,   107,  6190,  3840,   112,  3504,\n",
       "         25158,  1722,   115, 63519,  2070,   108,   122,   751,   120,  1868,\n",
       "           115,  1985,  2425,  2070,   107,  6857,   176,  2986,   108,   109,\n",
       "           456,   131,   116,  3359,   121, 55163,   116,   121, 37054,  1520,\n",
       "           117,   146, 10609,   124,  2221,  2425,  2070,   108,  6190,  1017,\n",
       "           112,  1449,   209,  8053,   604,  2425,  2070,   141, 23807,   108,\n",
       "           132,   209,   114,   776,   113,   203,   916,  2070,   107, 11997,\n",
       "           108,   109,   407,  1919,   108,  1017,   112,  1449,   599,   604,\n",
       "          2425,  2070,   114,   232,   141, 41918,  1060,  3850,   108,  8096,\n",
       "           143, 17928,   158,   111,  3805,   143,  1223,   158,   110,   108,\n",
       "           228,  5475, 38098,  3556,   120,  2425,  2070,   138,   193,   164,\n",
       "           114,  2198,   113,   153,   835,   115,   109,   792,   231,   107,\n",
       "           222,  6360,  6190, 11115,   860,   121,   930, 74139,   108,   114,\n",
       "          1258,   120,   256,   129, 10164,   118,   623,  2221,   111,  2425,\n",
       "           121, 24872,  8160,   107,   343,   109,  3027,  2680,   914,  1880,\n",
       "           108,   109,   221,   211,  1985,  2425,  1143,  1184,   124,   136,\n",
       "          1258,   108,   140,   109,  1220,   113,   114,  6213,  5683,   244,\n",
       "           109,   388,   113,   834,   107,   139,  1258,   140,   372,  1243,\n",
       "           120,  6190, 17902,  6219,  2070,   108,   254,   130, 56337,  1341,\n",
       "          6190,   112,   129,   109, 48327,  5475, 32930,   112,   193,   109,\n",
       "          3596,   112,  4112,   121, 55163,  2070,   107,   343,  6190,   239,\n",
       "          2372,   112,   133,  1455,   109,  9990,   111,   117,   160,   112,\n",
       "           411,   203,  1520,   112,   361, 54012,   114,   461,   561,   115,\n",
       "           718, 22077,  4944,   203,   889,  1569,   107,  2973,   112, 15078,\n",
       "           108,   109,  1419,   117,  2635,   114, 15589,   113,   203, 14796,\n",
       "          1520,   112,   340,  4681,   107,   168,   148, 34951,   181,   201,\n",
       "           124,  1385, 14796,   844,   108,   253,   130,   109,  6190, 16303,\n",
       "         30667, 16705,   111,   109,  2221,   121, 18265,  8715,   107,   198,\n",
       "           251,   375,   456,   373,  6190,   148,   174,  3131,   122, 21773,\n",
       "          1017,   141,   616,   352,   232,   118,  4020,   112,   203,  1385,\n",
       "         14796,  1258,   132,   118,   114,   177,  3105,   745, 15078,  2021,\n",
       "           108, 13764,  2139,   686,   112,   109,   841,   107,  3096, 12314,\n",
       "           127,     1]])"
      ]
     },
     "execution_count": 40,
     "metadata": {},
     "output_type": "execute_result"
    }
   ],
   "source": [
    "input_ids"
   ]
  },
  {
   "cell_type": "markdown",
   "id": "f702c7f4",
   "metadata": {},
   "source": [
    "### 4. Building a News and Sentiment Pipeline"
   ]
  },
  {
   "cell_type": "code",
   "execution_count": 54,
   "id": "369c5783",
   "metadata": {},
   "outputs": [],
   "source": [
    "monitored_tickers = ['ETH', 'TSLA', 'BTC']"
   ]
  },
  {
   "cell_type": "markdown",
   "id": "acd36ce1",
   "metadata": {},
   "source": [
    "#### 4.1. Search for Stock News using Google and Yahoo Finance"
   ]
  },
  {
   "cell_type": "code",
   "execution_count": 55,
   "id": "a9bdb0ae",
   "metadata": {},
   "outputs": [],
   "source": [
    "def search_for_stock_news_urls(ticker):\n",
    "    search_url = \"https://www.google.com/search?q=yahoo+finance+{}&tbm=nws\".format(ticker)\n",
    "    r = requests.get(search_url)\n",
    "    soup = BeautifulSoup(r.text, 'html.parser')\n",
    "    atags = soup.find_all('a')\n",
    "    hrefs = [link['href'] for link in atags]\n",
    "    return hrefs "
   ]
  },
  {
   "cell_type": "code",
   "execution_count": 59,
   "id": "1eae0e65",
   "metadata": {},
   "outputs": [],
   "source": [
    "#search_for_stock_news_urls('ETH')"
   ]
  },
  {
   "cell_type": "code",
   "execution_count": 60,
   "id": "7674c40e",
   "metadata": {
    "scrolled": false
   },
   "outputs": [
    {
     "data": {
      "text/plain": [
       "{'ETH': ['/?sa=X&ved=0ahUKEwjpr__Apv36AhUBLrkGHaqoCxIQOwgC',\n",
       "  '/search?q=yahoo+finance+ETH&tbm=nws&ie=UTF-8&gbv=1&sei=JdhYY6mJFYHc5OUPqtGukAE',\n",
       "  '/search?q=yahoo+finance+ETH&ie=UTF-8&source=lnms&sa=X&ved=0ahUKEwjpr__Apv36AhUBLrkGHaqoCxIQ_AUIBSgA',\n",
       "  '/search?q=yahoo+finance+ETH&ie=UTF-8&tbm=vid&source=lnms&sa=X&ved=0ahUKEwjpr__Apv36AhUBLrkGHaqoCxIQ_AUIBygC',\n",
       "  '/search?q=yahoo+finance+ETH&ie=UTF-8&tbm=isch&source=lnms&sa=X&ved=0ahUKEwjpr__Apv36AhUBLrkGHaqoCxIQ_AUICCgD',\n",
       "  'https://maps.google.com/maps?q=yahoo+finance+ETH&um=1&ie=UTF-8&sa=X&ved=0ahUKEwjpr__Apv36AhUBLrkGHaqoCxIQ_AUICSgE',\n",
       "  '/search?q=yahoo+finance+ETH&ie=UTF-8&tbm=shop&source=lnms&sa=X&ved=0ahUKEwjpr__Apv36AhUBLrkGHaqoCxIQ_AUICigF',\n",
       "  '/search?q=yahoo+finance+ETH&ie=UTF-8&tbm=bks&source=lnms&sa=X&ved=0ahUKEwjpr__Apv36AhUBLrkGHaqoCxIQ_AUICygG',\n",
       "  '/advanced_search',\n",
       "  '/search?q=yahoo+finance+ETH&ie=UTF-8&tbm=nws&source=lnt&tbs=qdr:h&sa=X&ved=0ahUKEwjpr__Apv36AhUBLrkGHaqoCxIQpwUIDQ',\n",
       "  '/search?q=yahoo+finance+ETH&ie=UTF-8&tbm=nws&source=lnt&tbs=qdr:d&sa=X&ved=0ahUKEwjpr__Apv36AhUBLrkGHaqoCxIQpwUIDg',\n",
       "  '/search?q=yahoo+finance+ETH&ie=UTF-8&tbm=nws&source=lnt&tbs=qdr:w&sa=X&ved=0ahUKEwjpr__Apv36AhUBLrkGHaqoCxIQpwUIDw',\n",
       "  '/search?q=yahoo+finance+ETH&ie=UTF-8&tbm=nws&source=lnt&tbs=qdr:m&sa=X&ved=0ahUKEwjpr__Apv36AhUBLrkGHaqoCxIQpwUIEA',\n",
       "  '/search?q=yahoo+finance+ETH&ie=UTF-8&tbm=nws&source=lnt&tbs=qdr:y&sa=X&ved=0ahUKEwjpr__Apv36AhUBLrkGHaqoCxIQpwUIEQ',\n",
       "  '/search?q=yahoo+finance+ETH&ie=UTF-8&tbm=nws&source=lnt&tbs=ar:1&sa=X&ved=0ahUKEwjpr__Apv36AhUBLrkGHaqoCxIQpwUIEg',\n",
       "  '/search?q=yahoo+finance+ETH&ie=UTF-8&tbm=nws&source=lnt&tbs=sbd:1&sa=X&ved=0ahUKEwjpr__Apv36AhUBLrkGHaqoCxIQpwUIFA',\n",
       "  '/url?q=https://uk.finance.yahoo.com/news/bitcoin-price-crypto-ethereum-binance-094851573.html&sa=U&ved=2ahUKEwjpr__Apv36AhUBLrkGHaqoCxIQxfQBegQIAxAC&usg=AOvVaw1lPQuuJDh1eTW-CFmZnjyb',\n",
       "  '/url?q=https://uk.finance.yahoo.com/news/ethereum-price-shanghai-upgrade-090725986.html&sa=U&ved=2ahUKEwjpr__Apv36AhUBLrkGHaqoCxIQxfQBegQICRAC&usg=AOvVaw3n9XxNijk9odh3y-pk9wrW',\n",
       "  '/url?q=https://uk.finance.yahoo.com/news/bitcoin-ethereum-price-latest-crypto-market-093018342.html&sa=U&ved=2ahUKEwjpr__Apv36AhUBLrkGHaqoCxIQxfQBegQIBRAC&usg=AOvVaw1zAjRHIhJaDiGaCScWRJA5',\n",
       "  '/url?q=https://finance.yahoo.com/news/reversibility-ethereum-benefits-pitfalls-190719333.html&sa=U&ved=2ahUKEwjpr__Apv36AhUBLrkGHaqoCxIQxfQBegQIBBAC&usg=AOvVaw0f44r8xmZSfiUntbzrATD5',\n",
       "  '/url?q=https://finance.yahoo.com/news/ethereum-merge-vaults-cryptocurrency-past-020111129.html&sa=U&ved=2ahUKEwjpr__Apv36AhUBLrkGHaqoCxIQxfQBegQIAhAC&usg=AOvVaw2-dn9XlUG3QZRiGhvLdeY8',\n",
       "  '/url?q=https://finance.yahoo.com/news/censorship-fork-ethereum-111500357.html&sa=U&ved=2ahUKEwjpr__Apv36AhUBLrkGHaqoCxIQxfQBegQIBxAC&usg=AOvVaw3k-O1wd1Gn8VHXCj9UGjVp',\n",
       "  '/url?q=https://finance.yahoo.com/news/celsius-once-solicited-donations-ukraine-073839535.html&sa=U&ved=2ahUKEwjpr__Apv36AhUBLrkGHaqoCxIQxfQBegQIARAC&usg=AOvVaw1mi8EGOVMJy_BZcj4ENDGF',\n",
       "  '/url?q=https://finance.yahoo.com/news/interview-cronos-provides-first-ethereum-130310177.html&sa=U&ved=2ahUKEwjpr__Apv36AhUBLrkGHaqoCxIQxfQBegQIBhAC&usg=AOvVaw2o7Kj__0aQ-3W7XNIBUCFI',\n",
       "  '/url?q=https://uk.finance.yahoo.com/news/rishi-sunak-crypto-hub-bitcoin-123727766.html&sa=U&ved=2ahUKEwjpr__Apv36AhUBLrkGHaqoCxIQxfQBegQIABAC&usg=AOvVaw1onuVCQZsbSVnNUzy135Lo',\n",
       "  '/url?q=https://finance.yahoo.com/news/defi-options-platform-opyns-crab-093839942.html&sa=U&ved=2ahUKEwjpr__Apv36AhUBLrkGHaqoCxIQxfQBegQICBAC&usg=AOvVaw08aaiGHVrwyD6fmzEZXX7n',\n",
       "  '/search?q=yahoo+finance+ETH&ie=UTF-8&tbm=nws&ei=JdhYY6mJFYHc5OUPqtGukAE&start=10&sa=N',\n",
       "  '/url?q=https://support.google.com/websearch%3Fp%3Dws_settings_location%26hl%3Den-IN&sa=U&ved=0ahUKEwjpr__Apv36AhUBLrkGHaqoCxIQty4IUw&usg=AOvVaw3djpglqaBlp4s9m3NMvy3e',\n",
       "  '/url?q=https://accounts.google.com/ServiceLogin%3Fcontinue%3Dhttps://www.google.com/search%253Fq%253Dyahoo%252Bfinance%252BETH%2526tbm%253Dnws%26hl%3Den&sa=U&ved=0ahUKEwjpr__Apv36AhUBLrkGHaqoCxIQxs8CCFQ&usg=AOvVaw3OpMk7TeH6pYu6vdu-zbwM',\n",
       "  'https://www.google.com/preferences?hl=en-IN&fg=1&sa=X&ved=0ahUKEwjpr__Apv36AhUBLrkGHaqoCxIQ5fUCCFU',\n",
       "  'https://policies.google.com/privacy?hl=en-IN&fg=1',\n",
       "  'https://policies.google.com/terms?hl=en-IN&fg=1'],\n",
       " 'TSLA': ['/?sa=X&ved=0ahUKEwiIoMHBpv36AhXvG7kGHYvSBNkQOwgC',\n",
       "  '/search?q=yahoo+finance+TSLA&tbm=nws&ie=UTF-8&gbv=1&sei=JthYY4j1Ge-35OUPi6WTyA0',\n",
       "  '/search?q=yahoo+finance+TSLA&ie=UTF-8&source=lnms&sa=X&ved=0ahUKEwiIoMHBpv36AhXvG7kGHYvSBNkQ_AUIBSgA',\n",
       "  '/search?q=yahoo+finance+TSLA&ie=UTF-8&tbm=vid&source=lnms&sa=X&ved=0ahUKEwiIoMHBpv36AhXvG7kGHYvSBNkQ_AUIBygC',\n",
       "  '/search?q=yahoo+finance+TSLA&ie=UTF-8&tbm=isch&source=lnms&sa=X&ved=0ahUKEwiIoMHBpv36AhXvG7kGHYvSBNkQ_AUICCgD',\n",
       "  'https://maps.google.com/maps?q=yahoo+finance+TSLA&um=1&ie=UTF-8&sa=X&ved=0ahUKEwiIoMHBpv36AhXvG7kGHYvSBNkQ_AUICSgE',\n",
       "  '/search?q=yahoo+finance+TSLA&ie=UTF-8&tbm=shop&source=lnms&sa=X&ved=0ahUKEwiIoMHBpv36AhXvG7kGHYvSBNkQ_AUICigF',\n",
       "  '/search?q=yahoo+finance+TSLA&ie=UTF-8&tbm=bks&source=lnms&sa=X&ved=0ahUKEwiIoMHBpv36AhXvG7kGHYvSBNkQ_AUICygG',\n",
       "  '/advanced_search',\n",
       "  '/search?q=yahoo+finance+TSLA&ie=UTF-8&tbm=nws&source=lnt&tbs=qdr:h&sa=X&ved=0ahUKEwiIoMHBpv36AhXvG7kGHYvSBNkQpwUIDQ',\n",
       "  '/search?q=yahoo+finance+TSLA&ie=UTF-8&tbm=nws&source=lnt&tbs=qdr:d&sa=X&ved=0ahUKEwiIoMHBpv36AhXvG7kGHYvSBNkQpwUIDg',\n",
       "  '/search?q=yahoo+finance+TSLA&ie=UTF-8&tbm=nws&source=lnt&tbs=qdr:w&sa=X&ved=0ahUKEwiIoMHBpv36AhXvG7kGHYvSBNkQpwUIDw',\n",
       "  '/search?q=yahoo+finance+TSLA&ie=UTF-8&tbm=nws&source=lnt&tbs=qdr:m&sa=X&ved=0ahUKEwiIoMHBpv36AhXvG7kGHYvSBNkQpwUIEA',\n",
       "  '/search?q=yahoo+finance+TSLA&ie=UTF-8&tbm=nws&source=lnt&tbs=qdr:y&sa=X&ved=0ahUKEwiIoMHBpv36AhXvG7kGHYvSBNkQpwUIEQ',\n",
       "  '/search?q=yahoo+finance+TSLA&ie=UTF-8&tbm=nws&source=lnt&tbs=ar:1&sa=X&ved=0ahUKEwiIoMHBpv36AhXvG7kGHYvSBNkQpwUIEg',\n",
       "  '/search?q=yahoo+finance+TSLA&ie=UTF-8&tbm=nws&source=lnt&tbs=sbd:1&sa=X&ved=0ahUKEwiIoMHBpv36AhXvG7kGHYvSBNkQpwUIFA',\n",
       "  '/url?q=https://www.theverge.com/2022/10/20/23414347/elon-musk-tesla-earnings-twitter-cybertruck-fsd-twitter&sa=U&ved=2ahUKEwiIoMHBpv36AhXvG7kGHYvSBNkQxfQBegQIABAC&usg=AOvVaw2Em6r7_594znatf9QzytMr',\n",
       "  '/url?q=https://www.cnn.com/2022/10/18/opinions/elon-musk-russia-ukraine-putin-xi-china-ghitis/index.html&sa=U&ved=2ahUKEwiIoMHBpv36AhXvG7kGHYvSBNkQxfQBegQICRAC&usg=AOvVaw3hNQbEXSgn3KcCglYnyynI',\n",
       "  '/url?q=https://www.reuters.com/business/autos-transportation/elon-musk-eyes-potential-investment-mexicos-nuevo-leon-state-sources-2022-10-24/&sa=U&ved=2ahUKEwiIoMHBpv36AhXvG7kGHYvSBNkQxfQBegQIBxAC&usg=AOvVaw3Qp2mpw_q5hjoVWRbUto1O',\n",
       "  '/url?q=https://time.com/6224380/elon-musk-twitter-open-letter/&sa=U&ved=2ahUKEwiIoMHBpv36AhXvG7kGHYvSBNkQxfQBegQIAxAC&usg=AOvVaw2gvvktYelcBfbNupsMoWtI',\n",
       "  '/url?q=https://www.forbes.com/sites/dereksaul/2022/10/25/elon-musk-reportedly-tells-bankers-hell-buy-twitter-by-friday-deadline/&sa=U&ved=2ahUKEwiIoMHBpv36AhXvG7kGHYvSBNkQxfQBegQIARAC&usg=AOvVaw08hvgICVAKtsRzZQwYo40Z',\n",
       "  '/url?q=https://www.ft.com/content/36933732-ce1a-4f5c-9345-0a96e4aa2715&sa=U&ved=2ahUKEwiIoMHBpv36AhXvG7kGHYvSBNkQxfQBegQIBhAC&usg=AOvVaw3LSov_e4MOAQ9xv6U1QYy_',\n",
       "  '/url?q=https://www.businessinsider.com/elon-musk-must-close-twitter-deal-or-trial-resumes-2022-10&sa=U&ved=2ahUKEwiIoMHBpv36AhXvG7kGHYvSBNkQxfQBegQIBBAC&usg=AOvVaw3eUv1kcqXazN9br74auwLb',\n",
       "  '/url?q=https://www.reuters.com/business/autos-transportation/exclusive-toyota-scrambles-ev-reboot-with-eye-tesla-2022-10-24/&sa=U&ved=2ahUKEwiIoMHBpv36AhXvG7kGHYvSBNkQxfQBegQICBAC&usg=AOvVaw1tRQlcH746ADm0iBJ8VWa5',\n",
       "  '/url?q=https://www.marketwatch.com/story/this-stock-is-likely-to-outperform-tesla-just-like-chevron-stock-has-beaten-meta-platforms-11666717326&sa=U&ved=2ahUKEwiIoMHBpv36AhXvG7kGHYvSBNkQxfQBegQIBRAC&usg=AOvVaw2fepQpHrOixX9D196sCqnK',\n",
       "  '/url?q=https://www.cnbc.com/2022/10/25/morgan-stanley-cuts-tesla-price-target-warns-of-unexpected-headwinds-ahead.html&sa=U&ved=2ahUKEwiIoMHBpv36AhXvG7kGHYvSBNkQxfQBegQIAhAC&usg=AOvVaw2vy8f6w0J5aZgtQ3SgrHY0',\n",
       "  '/search?q=yahoo+finance+TSLA&ie=UTF-8&tbm=nws&ei=JthYY4j1Ge-35OUPi6WTyA0&start=10&sa=N',\n",
       "  '/url?q=https://support.google.com/websearch%3Fp%3Dws_settings_location%26hl%3Den-IN&sa=U&ved=0ahUKEwiIoMHBpv36AhXvG7kGHYvSBNkQty4IUw&usg=AOvVaw275sQCW_Q2cS7yidaYpw1z',\n",
       "  '/url?q=https://accounts.google.com/ServiceLogin%3Fcontinue%3Dhttps://www.google.com/search%253Fq%253Dyahoo%252Bfinance%252BTSLA%2526tbm%253Dnws%26hl%3Den&sa=U&ved=0ahUKEwiIoMHBpv36AhXvG7kGHYvSBNkQxs8CCFQ&usg=AOvVaw0kISbvcNOwjnW062B3kHZc',\n",
       "  'https://www.google.com/preferences?hl=en-IN&fg=1&sa=X&ved=0ahUKEwiIoMHBpv36AhXvG7kGHYvSBNkQ5fUCCFU',\n",
       "  'https://policies.google.com/privacy?hl=en-IN&fg=1',\n",
       "  'https://policies.google.com/terms?hl=en-IN&fg=1'],\n",
       " 'BTC': ['/?sa=X&ved=0ahUKEwiEsonCpv36AhUjBbkGHZZkAUkQOwgC',\n",
       "  '/search?q=yahoo+finance+BTC&tbm=nws&ie=UTF-8&gbv=1&sei=J9hYY8SCJaOK5OUPlsmFyAQ',\n",
       "  '/search?q=yahoo+finance+BTC&ie=UTF-8&source=lnms&sa=X&ved=0ahUKEwiEsonCpv36AhUjBbkGHZZkAUkQ_AUIBSgA',\n",
       "  '/search?q=yahoo+finance+BTC&ie=UTF-8&tbm=isch&source=lnms&sa=X&ved=0ahUKEwiEsonCpv36AhUjBbkGHZZkAUkQ_AUIBygC',\n",
       "  '/search?q=yahoo+finance+BTC&ie=UTF-8&tbm=vid&source=lnms&sa=X&ved=0ahUKEwiEsonCpv36AhUjBbkGHZZkAUkQ_AUICCgD',\n",
       "  'https://maps.google.com/maps?q=yahoo+finance+BTC&um=1&ie=UTF-8&sa=X&ved=0ahUKEwiEsonCpv36AhUjBbkGHZZkAUkQ_AUICSgE',\n",
       "  '/search?q=yahoo+finance+BTC&ie=UTF-8&tbm=shop&source=lnms&sa=X&ved=0ahUKEwiEsonCpv36AhUjBbkGHZZkAUkQ_AUICigF',\n",
       "  '/search?q=yahoo+finance+BTC&ie=UTF-8&tbm=bks&source=lnms&sa=X&ved=0ahUKEwiEsonCpv36AhUjBbkGHZZkAUkQ_AUICygG',\n",
       "  '/advanced_search',\n",
       "  '/search?q=yahoo+finance+BTC&ie=UTF-8&tbm=nws&source=lnt&tbs=qdr:h&sa=X&ved=0ahUKEwiEsonCpv36AhUjBbkGHZZkAUkQpwUIDQ',\n",
       "  '/search?q=yahoo+finance+BTC&ie=UTF-8&tbm=nws&source=lnt&tbs=qdr:d&sa=X&ved=0ahUKEwiEsonCpv36AhUjBbkGHZZkAUkQpwUIDg',\n",
       "  '/search?q=yahoo+finance+BTC&ie=UTF-8&tbm=nws&source=lnt&tbs=qdr:w&sa=X&ved=0ahUKEwiEsonCpv36AhUjBbkGHZZkAUkQpwUIDw',\n",
       "  '/search?q=yahoo+finance+BTC&ie=UTF-8&tbm=nws&source=lnt&tbs=qdr:m&sa=X&ved=0ahUKEwiEsonCpv36AhUjBbkGHZZkAUkQpwUIEA',\n",
       "  '/search?q=yahoo+finance+BTC&ie=UTF-8&tbm=nws&source=lnt&tbs=qdr:y&sa=X&ved=0ahUKEwiEsonCpv36AhUjBbkGHZZkAUkQpwUIEQ',\n",
       "  '/search?q=yahoo+finance+BTC&ie=UTF-8&tbm=nws&source=lnt&tbs=ar:1&sa=X&ved=0ahUKEwiEsonCpv36AhUjBbkGHZZkAUkQpwUIEg',\n",
       "  '/search?q=yahoo+finance+BTC&ie=UTF-8&tbm=nws&source=lnt&tbs=sbd:1&sa=X&ved=0ahUKEwiEsonCpv36AhUjBbkGHZZkAUkQpwUIFA',\n",
       "  '/url?q=https://uk.finance.yahoo.com/news/bitcoin-price-crypto-ethereum-binance-094851573.html&sa=U&ved=2ahUKEwiEsonCpv36AhUjBbkGHZZkAUkQxfQBegQIBhAC&usg=AOvVaw1dSGpYKSpefLBXAc-rG8zt',\n",
       "  '/url?q=https://finance.yahoo.com/news/ancient-bitcoin-litecoin-struggle-keep-071510637.html&sa=U&ved=2ahUKEwiEsonCpv36AhUjBbkGHZZkAUkQxfQBegQICRAC&usg=AOvVaw3xqyTK5N_9hVpDvj2r74Eh',\n",
       "  '/url?q=https://finance.yahoo.com/news/peter-brandt-btc-hit-time-184305478.html&sa=U&ved=2ahUKEwiEsonCpv36AhUjBbkGHZZkAUkQxfQBegQIAxAC&usg=AOvVaw3-OlB8gVMnUSx1GrElLky0',\n",
       "  '/url?q=https://uk.finance.yahoo.com/news/rishi-sunak-crypto-hub-bitcoin-123727766.html&sa=U&ved=2ahUKEwiEsonCpv36AhUjBbkGHZZkAUkQxfQBegQIAhAC&usg=AOvVaw2PrU9NBUydOnZlzUATrVtl',\n",
       "  '/url?q=https://finance.yahoo.com/news/cathie-wood-still-holds-bitcoin-211053405.html&sa=U&ved=2ahUKEwiEsonCpv36AhUjBbkGHZZkAUkQxfQBegQIARAC&usg=AOvVaw0_OD_K1QOmMQvDvJUhtzZb',\n",
       "  '/url?q=https://finance.yahoo.com/news/crypto-industry-disappointed-australia-looks-052322353.html&sa=U&ved=2ahUKEwiEsonCpv36AhUjBbkGHZZkAUkQxfQBegQIBRAC&usg=AOvVaw0djD8umbyD4V9yowwgIaSg',\n",
       "  '/url?q=https://uk.finance.yahoo.com/news/bitcoin-price-pound-dollar-124913124.html&sa=U&ved=2ahUKEwiEsonCpv36AhUjBbkGHZZkAUkQxfQBegQIBBAC&usg=AOvVaw2VwSZx5ZPYEEAvgFr4UEcG',\n",
       "  '/url?q=https://finance.yahoo.com/news/struggling-bitcoin-miners-flocking-maple-190736075.html&sa=U&ved=2ahUKEwiEsonCpv36AhUjBbkGHZZkAUkQxfQBegQIABAC&usg=AOvVaw3VtO3Lp02cHm0sgn5VkG1F',\n",
       "  '/url?q=https://finance.yahoo.com/news/100x-better-gold-michael-saylor-153000898.html&sa=U&ved=2ahUKEwiEsonCpv36AhUjBbkGHZZkAUkQxfQBegQIBxAC&usg=AOvVaw3vJGNd5fpa78tZrNOK_m1H',\n",
       "  '/url?q=https://finance.yahoo.com/news/first-mover-americas-bitcoin-falls-125101724.html&sa=U&ved=2ahUKEwiEsonCpv36AhUjBbkGHZZkAUkQxfQBegQICBAC&usg=AOvVaw0l2Ci_aBBwvU1NzsVfQNhI',\n",
       "  '/search?q=yahoo+finance+BTC&ie=UTF-8&tbm=nws&ei=J9hYY8SCJaOK5OUPlsmFyAQ&start=10&sa=N',\n",
       "  '/url?q=https://support.google.com/websearch%3Fp%3Dws_settings_location%26hl%3Den-IN&sa=U&ved=0ahUKEwiEsonCpv36AhUjBbkGHZZkAUkQty4IUw&usg=AOvVaw0a-Tr0Ha-1ulehCuSLcSo2',\n",
       "  '/url?q=https://accounts.google.com/ServiceLogin%3Fcontinue%3Dhttps://www.google.com/search%253Fq%253Dyahoo%252Bfinance%252BBTC%2526tbm%253Dnws%26hl%3Den&sa=U&ved=0ahUKEwiEsonCpv36AhUjBbkGHZZkAUkQxs8CCFQ&usg=AOvVaw2_gBQ0003v9k1ShbeLeGOA',\n",
       "  'https://www.google.com/preferences?hl=en-IN&fg=1&sa=X&ved=0ahUKEwiEsonCpv36AhUjBbkGHZZkAUkQ5fUCCFU',\n",
       "  'https://policies.google.com/privacy?hl=en-IN&fg=1',\n",
       "  'https://policies.google.com/terms?hl=en-IN&fg=1']}"
      ]
     },
     "execution_count": 60,
     "metadata": {},
     "output_type": "execute_result"
    }
   ],
   "source": [
    "raw_urls = {ticker:search_for_stock_news_urls(ticker) for ticker in monitored_tickers}\n",
    "raw_urls"
   ]
  },
  {
   "cell_type": "code",
   "execution_count": 62,
   "id": "57dfc484",
   "metadata": {},
   "outputs": [
    {
     "data": {
      "text/plain": [
       "['/?sa=X&ved=0ahUKEwjpr__Apv36AhUBLrkGHaqoCxIQOwgC',\n",
       " '/search?q=yahoo+finance+ETH&tbm=nws&ie=UTF-8&gbv=1&sei=JdhYY6mJFYHc5OUPqtGukAE',\n",
       " '/search?q=yahoo+finance+ETH&ie=UTF-8&source=lnms&sa=X&ved=0ahUKEwjpr__Apv36AhUBLrkGHaqoCxIQ_AUIBSgA',\n",
       " '/search?q=yahoo+finance+ETH&ie=UTF-8&tbm=vid&source=lnms&sa=X&ved=0ahUKEwjpr__Apv36AhUBLrkGHaqoCxIQ_AUIBygC',\n",
       " '/search?q=yahoo+finance+ETH&ie=UTF-8&tbm=isch&source=lnms&sa=X&ved=0ahUKEwjpr__Apv36AhUBLrkGHaqoCxIQ_AUICCgD',\n",
       " 'https://maps.google.com/maps?q=yahoo+finance+ETH&um=1&ie=UTF-8&sa=X&ved=0ahUKEwjpr__Apv36AhUBLrkGHaqoCxIQ_AUICSgE',\n",
       " '/search?q=yahoo+finance+ETH&ie=UTF-8&tbm=shop&source=lnms&sa=X&ved=0ahUKEwjpr__Apv36AhUBLrkGHaqoCxIQ_AUICigF',\n",
       " '/search?q=yahoo+finance+ETH&ie=UTF-8&tbm=bks&source=lnms&sa=X&ved=0ahUKEwjpr__Apv36AhUBLrkGHaqoCxIQ_AUICygG',\n",
       " '/advanced_search',\n",
       " '/search?q=yahoo+finance+ETH&ie=UTF-8&tbm=nws&source=lnt&tbs=qdr:h&sa=X&ved=0ahUKEwjpr__Apv36AhUBLrkGHaqoCxIQpwUIDQ',\n",
       " '/search?q=yahoo+finance+ETH&ie=UTF-8&tbm=nws&source=lnt&tbs=qdr:d&sa=X&ved=0ahUKEwjpr__Apv36AhUBLrkGHaqoCxIQpwUIDg',\n",
       " '/search?q=yahoo+finance+ETH&ie=UTF-8&tbm=nws&source=lnt&tbs=qdr:w&sa=X&ved=0ahUKEwjpr__Apv36AhUBLrkGHaqoCxIQpwUIDw',\n",
       " '/search?q=yahoo+finance+ETH&ie=UTF-8&tbm=nws&source=lnt&tbs=qdr:m&sa=X&ved=0ahUKEwjpr__Apv36AhUBLrkGHaqoCxIQpwUIEA',\n",
       " '/search?q=yahoo+finance+ETH&ie=UTF-8&tbm=nws&source=lnt&tbs=qdr:y&sa=X&ved=0ahUKEwjpr__Apv36AhUBLrkGHaqoCxIQpwUIEQ',\n",
       " '/search?q=yahoo+finance+ETH&ie=UTF-8&tbm=nws&source=lnt&tbs=ar:1&sa=X&ved=0ahUKEwjpr__Apv36AhUBLrkGHaqoCxIQpwUIEg',\n",
       " '/search?q=yahoo+finance+ETH&ie=UTF-8&tbm=nws&source=lnt&tbs=sbd:1&sa=X&ved=0ahUKEwjpr__Apv36AhUBLrkGHaqoCxIQpwUIFA',\n",
       " '/url?q=https://uk.finance.yahoo.com/news/bitcoin-price-crypto-ethereum-binance-094851573.html&sa=U&ved=2ahUKEwjpr__Apv36AhUBLrkGHaqoCxIQxfQBegQIAxAC&usg=AOvVaw1lPQuuJDh1eTW-CFmZnjyb',\n",
       " '/url?q=https://uk.finance.yahoo.com/news/ethereum-price-shanghai-upgrade-090725986.html&sa=U&ved=2ahUKEwjpr__Apv36AhUBLrkGHaqoCxIQxfQBegQICRAC&usg=AOvVaw3n9XxNijk9odh3y-pk9wrW',\n",
       " '/url?q=https://uk.finance.yahoo.com/news/bitcoin-ethereum-price-latest-crypto-market-093018342.html&sa=U&ved=2ahUKEwjpr__Apv36AhUBLrkGHaqoCxIQxfQBegQIBRAC&usg=AOvVaw1zAjRHIhJaDiGaCScWRJA5',\n",
       " '/url?q=https://finance.yahoo.com/news/reversibility-ethereum-benefits-pitfalls-190719333.html&sa=U&ved=2ahUKEwjpr__Apv36AhUBLrkGHaqoCxIQxfQBegQIBBAC&usg=AOvVaw0f44r8xmZSfiUntbzrATD5',\n",
       " '/url?q=https://finance.yahoo.com/news/ethereum-merge-vaults-cryptocurrency-past-020111129.html&sa=U&ved=2ahUKEwjpr__Apv36AhUBLrkGHaqoCxIQxfQBegQIAhAC&usg=AOvVaw2-dn9XlUG3QZRiGhvLdeY8',\n",
       " '/url?q=https://finance.yahoo.com/news/censorship-fork-ethereum-111500357.html&sa=U&ved=2ahUKEwjpr__Apv36AhUBLrkGHaqoCxIQxfQBegQIBxAC&usg=AOvVaw3k-O1wd1Gn8VHXCj9UGjVp',\n",
       " '/url?q=https://finance.yahoo.com/news/celsius-once-solicited-donations-ukraine-073839535.html&sa=U&ved=2ahUKEwjpr__Apv36AhUBLrkGHaqoCxIQxfQBegQIARAC&usg=AOvVaw1mi8EGOVMJy_BZcj4ENDGF',\n",
       " '/url?q=https://finance.yahoo.com/news/interview-cronos-provides-first-ethereum-130310177.html&sa=U&ved=2ahUKEwjpr__Apv36AhUBLrkGHaqoCxIQxfQBegQIBhAC&usg=AOvVaw2o7Kj__0aQ-3W7XNIBUCFI',\n",
       " '/url?q=https://uk.finance.yahoo.com/news/rishi-sunak-crypto-hub-bitcoin-123727766.html&sa=U&ved=2ahUKEwjpr__Apv36AhUBLrkGHaqoCxIQxfQBegQIABAC&usg=AOvVaw1onuVCQZsbSVnNUzy135Lo',\n",
       " '/url?q=https://finance.yahoo.com/news/defi-options-platform-opyns-crab-093839942.html&sa=U&ved=2ahUKEwjpr__Apv36AhUBLrkGHaqoCxIQxfQBegQICBAC&usg=AOvVaw08aaiGHVrwyD6fmzEZXX7n',\n",
       " '/search?q=yahoo+finance+ETH&ie=UTF-8&tbm=nws&ei=JdhYY6mJFYHc5OUPqtGukAE&start=10&sa=N',\n",
       " '/url?q=https://support.google.com/websearch%3Fp%3Dws_settings_location%26hl%3Den-IN&sa=U&ved=0ahUKEwjpr__Apv36AhUBLrkGHaqoCxIQty4IUw&usg=AOvVaw3djpglqaBlp4s9m3NMvy3e',\n",
       " '/url?q=https://accounts.google.com/ServiceLogin%3Fcontinue%3Dhttps://www.google.com/search%253Fq%253Dyahoo%252Bfinance%252BETH%2526tbm%253Dnws%26hl%3Den&sa=U&ved=0ahUKEwjpr__Apv36AhUBLrkGHaqoCxIQxs8CCFQ&usg=AOvVaw3OpMk7TeH6pYu6vdu-zbwM',\n",
       " 'https://www.google.com/preferences?hl=en-IN&fg=1&sa=X&ved=0ahUKEwjpr__Apv36AhUBLrkGHaqoCxIQ5fUCCFU',\n",
       " 'https://policies.google.com/privacy?hl=en-IN&fg=1',\n",
       " 'https://policies.google.com/terms?hl=en-IN&fg=1']"
      ]
     },
     "execution_count": 62,
     "metadata": {},
     "output_type": "execute_result"
    }
   ],
   "source": [
    "#raw_urls['ETH']"
   ]
  },
  {
   "cell_type": "markdown",
   "id": "3af33167",
   "metadata": {},
   "source": [
    "#### 4.2. Strip out unwanted URLs\n",
    " "
   ]
  },
  {
   "cell_type": "code",
   "execution_count": 64,
   "id": "4ae975ad",
   "metadata": {},
   "outputs": [],
   "source": [
    "import re"
   ]
  },
  {
   "cell_type": "code",
   "execution_count": 65,
   "id": "5102363f",
   "metadata": {},
   "outputs": [],
   "source": [
    "exclude_list = ['maps', 'policies', 'preferences', 'accounts', 'support']"
   ]
  },
  {
   "cell_type": "code",
   "execution_count": 66,
   "id": "8da4481d",
   "metadata": {},
   "outputs": [],
   "source": [
    "def strip_unwanted_urls(urls, exclude_list):\n",
    "    val = []\n",
    "    for url in urls: \n",
    "        if 'https://' in url and not any(exclude_word in url for exclude_word in exclude_list):\n",
    "            res = re.findall(r'(https?://\\S+)', url)[0].split('&')[0]\n",
    "            val.append(res)\n",
    "    return list(set(val))"
   ]
  },
  {
   "cell_type": "code",
   "execution_count": 68,
   "id": "9bb306ab",
   "metadata": {},
   "outputs": [
    {
     "data": {
      "text/plain": [
       "{'ETH': ['https://finance.yahoo.com/news/ethereum-merge-vaults-cryptocurrency-past-020111129.html',\n",
       "  'https://finance.yahoo.com/news/censorship-fork-ethereum-111500357.html',\n",
       "  'https://finance.yahoo.com/news/defi-options-platform-opyns-crab-093839942.html',\n",
       "  'https://uk.finance.yahoo.com/news/bitcoin-price-crypto-ethereum-binance-094851573.html',\n",
       "  'https://finance.yahoo.com/news/reversibility-ethereum-benefits-pitfalls-190719333.html',\n",
       "  'https://finance.yahoo.com/news/celsius-once-solicited-donations-ukraine-073839535.html',\n",
       "  'https://uk.finance.yahoo.com/news/ethereum-price-shanghai-upgrade-090725986.html',\n",
       "  'https://uk.finance.yahoo.com/news/rishi-sunak-crypto-hub-bitcoin-123727766.html',\n",
       "  'https://uk.finance.yahoo.com/news/bitcoin-ethereum-price-latest-crypto-market-093018342.html',\n",
       "  'https://finance.yahoo.com/news/interview-cronos-provides-first-ethereum-130310177.html'],\n",
       " 'TSLA': ['https://www.reuters.com/business/autos-transportation/exclusive-toyota-scrambles-ev-reboot-with-eye-tesla-2022-10-24/',\n",
       "  'https://www.cnn.com/2022/10/18/opinions/elon-musk-russia-ukraine-putin-xi-china-ghitis/index.html',\n",
       "  'https://www.forbes.com/sites/dereksaul/2022/10/25/elon-musk-reportedly-tells-bankers-hell-buy-twitter-by-friday-deadline/',\n",
       "  'https://www.ft.com/content/36933732-ce1a-4f5c-9345-0a96e4aa2715',\n",
       "  'https://www.marketwatch.com/story/this-stock-is-likely-to-outperform-tesla-just-like-chevron-stock-has-beaten-meta-platforms-11666717326',\n",
       "  'https://www.cnbc.com/2022/10/25/morgan-stanley-cuts-tesla-price-target-warns-of-unexpected-headwinds-ahead.html',\n",
       "  'https://www.businessinsider.com/elon-musk-must-close-twitter-deal-or-trial-resumes-2022-10',\n",
       "  'https://www.reuters.com/business/autos-transportation/elon-musk-eyes-potential-investment-mexicos-nuevo-leon-state-sources-2022-10-24/',\n",
       "  'https://time.com/6224380/elon-musk-twitter-open-letter/',\n",
       "  'https://www.theverge.com/2022/10/20/23414347/elon-musk-tesla-earnings-twitter-cybertruck-fsd-twitter'],\n",
       " 'BTC': ['https://finance.yahoo.com/news/first-mover-americas-bitcoin-falls-125101724.html',\n",
       "  'https://finance.yahoo.com/news/cathie-wood-still-holds-bitcoin-211053405.html',\n",
       "  'https://finance.yahoo.com/news/100x-better-gold-michael-saylor-153000898.html',\n",
       "  'https://uk.finance.yahoo.com/news/bitcoin-price-crypto-ethereum-binance-094851573.html',\n",
       "  'https://finance.yahoo.com/news/ancient-bitcoin-litecoin-struggle-keep-071510637.html',\n",
       "  'https://finance.yahoo.com/news/crypto-industry-disappointed-australia-looks-052322353.html',\n",
       "  'https://uk.finance.yahoo.com/news/rishi-sunak-crypto-hub-bitcoin-123727766.html',\n",
       "  'https://finance.yahoo.com/news/struggling-bitcoin-miners-flocking-maple-190736075.html',\n",
       "  'https://uk.finance.yahoo.com/news/bitcoin-price-pound-dollar-124913124.html',\n",
       "  'https://finance.yahoo.com/news/peter-brandt-btc-hit-time-184305478.html']}"
      ]
     },
     "execution_count": 68,
     "metadata": {},
     "output_type": "execute_result"
    }
   ],
   "source": [
    "cleaned_urls = {ticker:strip_unwanted_urls(raw_urls[ticker], exclude_list) for ticker in monitored_tickers}\n",
    "cleaned_urls"
   ]
  },
  {
   "cell_type": "markdown",
   "id": "841ea121",
   "metadata": {},
   "source": [
    "#### 4.3. Search and Scrape Cleaned URLs\n",
    " "
   ]
  },
  {
   "cell_type": "code",
   "execution_count": 69,
   "id": "2dbaed41",
   "metadata": {},
   "outputs": [],
   "source": [
    "def scrape_and_process(URLs):\n",
    "    ARTICLES = []\n",
    "    for url in URLs: \n",
    "        r = requests.get(url)\n",
    "        soup = BeautifulSoup(r.text, 'html.parser')\n",
    "        paragraphs = soup.find_all('p')\n",
    "        text = [paragraph.text for paragraph in paragraphs]\n",
    "        words = ' '.join(text).split(' ')[:350]\n",
    "        ARTICLE = ' '.join(words)\n",
    "        ARTICLES.append(ARTICLE)\n",
    "    return ARTICLES"
   ]
  },
  {
   "cell_type": "code",
   "execution_count": 72,
   "id": "0a25fd39",
   "metadata": {},
   "outputs": [
    {
     "data": {
      "text/plain": [
       "{'ETH': ['Ethereum won plaudits and the spotlight two weeks ago for smoothly pushing through its much-hyped Merge, a historic shift to a different “proof-of-stake” blockchain system designed to drastically reduce energy consumption – roughly 99% by some estimates. Now, the second-biggest blockchain appears to be proving itself on another promise of the Merge: greater inflation-resistance, a characteristic that’s usually more closely associated with Ethereum’s bigger and better-known rival, Bitcoin. In the days since the Merge, the annualized net issuance rate of Ethereum’s native cryptocurrency, ether (ETH), has fallen to a range of 0% to 0.7%, estimates Lucas Outumuro, head of research at crypto data and analysis firm IntoTheBlock. That compares with about 3.5% prior to the Merge. The net issuance rate, also referred to as the inflation rate, is essentially the new supply divided by the existing supply. The website Ultra Sound Money puts the annualized inflation rate at 0.19%, based on data showing that some 8,100 ETH have been added to ether’s total supply since the Merge. In a world where central banks worldwide are struggling to contain inflation – in the face of trillions of dollars of money-printing and severe supply-chain bottlenecks – Ethereum’s reduced issuance rate might help to bolster its appeal among investor in crypto and traditional markets alike. For comparison, Bitcoin’s net issuance rate is currently about 1.75%, according to Woobull.com. The Federal Reserve has doubled the size of its balance sheet since March 2020 to about $8.9 trillion.  “The level of new tokens coming onto the network has substantially reduced.” Simon Peters, a market analyst at the trading firm eToro, wrote in a note Monday. The decline in Ethereum’s inflation rate comes from two factors: a reduction of new issuance as a result of the change in the underlying blockchain system, and a separate mechanism known as “EIP 1559” where fees paid for transactions on the network are “burned,” or eliminated from circulation. Before the Merge, the issuance of ether’s proof-of-work (PoW) mining rewards was around 13,000 ETH per day, according to the Ethereum Foundation. After the Merge, mining rewards disappeared, and staking rewards',\n",
       "  \"Ethereum may soon split into two, according to some developers. As the second largest blockchain network vies for mainstream acceptance, it has increasingly fallen under the microscope of governments and regulators eager to tame the platform. The US government’s vision for Ethereum – which involves regulating certain kinds of blockchain apps out of existence – is at odds with some of the core principles that the platform was founded on. Ideas like “censorship resistance” and “credible neutrality” may be thrown out the window as big businesses and average users – folks comfortable with a more heavily regulated crypto experience – enter the Ethereum arena. The most likely path forward for Ethereum, sources tell CoinDesk, may be two versions of the Chain: one regulated, one not. This article originally appeared in Valid Points, CoinDesk’s weekly newsletter breaking down Ethereum’s evolution and its impact on crypto markets. Subscribe to get it in your inbox every Wednesday. Crypto was founded with a strong, albeit hard-to-pin-down ideological bent. Generally, censorship resistance and credible neutrality sit at this ideology’s core. “I actually think most people in the Ethereum space agree with the notion that on Ethereum, everyone is treated equally,” Martin Köppelmann, a long time Etheruem developer and the founder of the privacy-focused Gnosis blockchain, told CoinDesk. “If you have an idea for an [app], or if you should deploy an asset, even if you do a Ponzi scheme or whatever, the platform treats you in a neutral way,” he explained. “I feel like it's important to have one place where, even at a geopolitical scale, you don’t have the fear that one party could just, say, freeze the accounts or the assets of another party.” Köppelmann contrasts this approach with “the Facebooks and Twitters of the world,” where if you do or say something wrong, “suddenly, from one day to another, they say, ‘Sorry, you're not allowed to do this anymore. You’re out.’” Köppelmann uses the terms “censorship resistance,” “credible neutrality,” and “‘permissionless innovation” to describe Ethereum’s hands-off ethos. Increasingly, major financial institutions, giant corporations, and hordes of retail investors are choosing Ethereum as\",\n",
       "  'A decentralized finance (DeFi) product that launched earlier this year to help investors profit from a sideways trending market is generating desired results. The \"Crab\" strategy, designed by leading DeFi options platform Opyn, is built to make money during bouts of low ether (ETH) price volatility. It has earned 14% returns in U.S. dollar terms and 42% in ether terms since its v2 went live in late July. Ether has dropped 20% since the end of July, however, the cryptocurrency has primarily traded between $1,100 to $1,300 in the past four weeks. The strategy is yet another example of the DeFi industry helping investors bypass complexities involved with traditional option strategies like \"short straddle\" often set up by sophisticated market participants during a market lull. In case of a short straddle, a trader sells bullish and bearish options contracts called call and put on a centralized exchange. If the market stays rangebound, the short straddle makes money. Setting up such multi-leg strategies is easier said than done, as traders must select appropriate levels to buy/sell options and the expiration date and actively manage the position as several factors influence options prices. In Opyn\\'s crab strategy, users only need to deposit ETH as collateral to start profiting from a comatose market. And investors seem to be piling money into the automated product. \"When Crab v2 went live, the strategy had 888 ETH. Currently, the strategy has 5,378 ETH, a 505% increase in 3 months,\" Wade Prospere, head of marketing and community at Opyn, told CoinDesk. The crab strategy is built on top of Opyn\\'s Squeeth or squared ether – an index tracking ether\\'s price change to the power of two and allowing buyers to earn more when the market rallies and lose less during price drops in return for hefty funding rates – costs for keeping the so-called power perpetual position open. After users deposit ETH as collateral, the crab vault combines long ETH with a short (bearish) Squeeth position, creating a market-neutral position. That allows crab depositors to collect the funding rate – the cost of holding long positions –',\n",
       "  'The beta version of Bluesky app created by Jack Dorsey is available now Bitcoin has been trading flat throughout the past week, but still holding above $19k. Now analysts claim a price indicator is signalling a bullish breakout for the world\\'s largest cryptocurrency by market cap. The entire cryptocurrency market increased today by 0.3% to $970bn, with bitcoin (BTC-USD) standing at $19,300 as of the time of writing, a change of 0.1% over the past 24 hours. Check: Crypto live prices On Tuesday, altcoins also sidestepped with investors remaining cautious. Ethereum (ETH-USD) jumped over 1% to $1,347.29, up 1% in the past week. The recent price action saw bitcoin\\'s market cap at $370,397,177,638. The leading digital asset has seen its value deteriorate by approximately 57% in one year. If past Bollinger bandwidth patterns are taken into account, going back to 2015, bitcoin (BTC-USD) has bounced back after a draw-down of the price by approximately 50%. Bollinger bandwidths are used to predict asset volatility and price action. Referring to the indicators that suggest an imminent price movement, George Tung from Cryptosrus said: \"From a chart perspective, these indicators are showing that bitcoin is ready to head higher.\" One price indicator that has also been foreshadowing a significant price movement for bitcoin (BTC-USD) is the current difference between the mining hash rate and the price of bitcoin. The bitcoin mining hash rate is up around 90% from one year ago, this means that more mining activity is happening on the network. Watch: \\'Bitcoin will eat into global finance until it\\'s $1m per coin\\' | The Crypto It is also a sign of network security, assuming the increased activity is relatively decentralised. The mining hash rate describes the number of calculations per second that are being conducted to try and generate a new block in the bitcoin blockchain. On his Youtube channel, crypto-analyst George Tung added: \"The hash rate for bitcoin continues to go higher and higher. \"This is important as if there is a large deviation between the hash rate and the price, that usually indicates that a major movement is going',\n",
       "  'Imagine that one day you absentmindedly fall victim to a crypto phishing scam, the perpetrator stealing 10 ether (ETH) from you. Crypto transactions are final so there\\'s not much that you can do, right? Well, not so fast. To ensure that stolen crypto gets returned to its rightful owner, a group of Stanford researchers recently raised the idea of introducing reversible transactions to Ethereum. If such a standard were to be adopted, your stolen 10 ETH could, in theory at least, boomerang back into your wallet, the frustrated thief being left out of pocket. J.P. Koning, a CoinDesk columnist, worked as an equity researcher at a Canadian brokerage firm and a financial writer at a large Canadian bank. He runs the popular Moneyness blog. Reversibility would probably be a popular feature, especially among the risk-averse who have until now refused to adopt Ethereum. But there are costs to consider, too. With any payments system, tweaking one element to solve a particular problem means introducing a new set of problems somewhere else along the network. There\\'s no such thing as a free fix. Let’s dig into what these costs are. Crypto theft is everywhere, from large-scale exploits to small retail phishing scams. To make the crypto economy safer, Kaili Wang and colleagues have floated the idea of introducing an Ethereum token standard that allows transactions to be temporarily reversible. During that time period, say four days, a victim of a theft could appeal to a decentralized adjudicator to have their stolen crypto returned. Satoshi Nakamoto, the creator of the Bitcoin blockchain, would be shocked. After all, Nakamoto\\'s white paper can be read as a diatribe against reversible transactions. Financial institutions \"cannot avoid mediating disputes,\" wrote Nakamoto, and as a result merchants must be \"wary of their customers, hassling them for more information than they would otherwise need.\" But the Stanford researchers don’t intend for Ethereum to be 100% reversible. People who don\\'t like the idea of reversible tokens could continue to limit their interactions to non-reversible tokens. As for those who are intimidated by the high degree of expertise required to',\n",
       "  'Celsius Network executives, in the throes of a bankruptcy proceeding, are accused by critics of siphoning off money and ensuring that the C-suite gets a payout before creditors. But when it comes to Celsius’ fundraising campaign for Ukraine, did the funds – intended to help victims of war – make it to the right place? Months after Celsius’ bankruptcy filing, critics on Twitter are reexamining the digital asset lender’s efforts to solicit donations on behalf of Ukraine. They argue there’s no evidence from on-chain data that the cryptocurrency collected was ever passed along. In the days following Russia’s invasion of Ukraine in February, crypto donations flowed rapidly into the war-torn country. In less than two weeks, nearly $100 million had made its way to wallets set up by Ukraine’s Ministry of Digital Transformation. Major crypto exchanges including FTX and Binance provided directions for their users on how to donate to official wallets, and social media platforms worked hard to stamp out posts from scammers. Celsius took a different approach. Instead of directing users to official Ukraine government-run wallets, it tweeted out addresses for wallets that it controlled, and solicited donations by way of those wallets. “To help #Ukraine, @CelsiusNetwork is publishing addresses where you can donate BTC and ETH in a safe and controlled way,” the company tweeted. According to Nansen’s wallet profiler tool, all ether (ETH) sent to that wallet was passed on to further wallets that Nansen says are controlled by Celsius. A spokesperson for Ukraine’s Ministry of Digital Transformation said that she wasn’t aware of any ether donations received from Celsius. It’s unknown whether Celsius made a cash donation via other means, such as a wire transfer, or if the cryptocurrency was passed along via an alternative not-easy-to-track crypto route or some other channel. But the matter has caused an outcry on Twitter among some crypto-focused users. Celsius didn’t respond to a request for comment by CoinDesk sent to its press email. Tracking Celsius’ bitcoin (BTC) wallets is a bit more complex. A representative for Chainalysis says that the provided wallet is a services wallet, and it',\n",
       "  'Markets say Trussonomics is now dead, but Liz Truss still remains as the prime minister — for now Ethereum prices have spiked today after its core developers begin preparations for the network’s next, highly anticipated upgrade. On Tuesday, Ethereum (ETH-USD) jumped over 2% to $1,332, up almost 4% in the past week. Check: Crypto live prices The Ethereum Foundation is working on the next major upgrade of its network, the Shanghai Upgrade and a major aspect of this update is that it will allow blockchain validators to withdraw their 32 ether from staking contracts. After the Ethereum network \\'merged\\' to a proof of stake blockchain, validation of transactions is not done via mining, as is still the way with bitcoin, instead holders of 32 ether (ETH-USD) or more can \\'stake\\' their cryptocurrency and benefit from the rewards associated with being a network validator. Watch: Three key reasons for the Ethereum Merge - The Crypto Mile However, so far, staking ether (ETH-USD) has been a one-way street, and once a validator deposits their 32 ether they cannot withdraw what they have staked. The Shanghai Upgrade will implement code that should allow Ethereum network validators to withdraw their staked ether. Read more: \\'Too late to use crypto as hedge against falling pound\\' says BitBoy Crypto On Friday, the Ethereum Foundation stated it was launching a pre-Shanghai testnet called “Shandong\". The \\'Shangdong\\' testnet allows the developers to experiment with the technicalities of the Shanghai Upgrade without endangering the entire Ethereum blockchain. The testnet will allow developers to experiment with the planned features of the Shanghai Upgrade, including the implementation of staked ether (ETH-USD) withdrawals. Read more: Cardano leads crypto fall as US inflation hits 40-year high Shandong will serve as a testing ground for numerous Ethereum Improvement Proposals (EIPs) ahead of the full implementation of the Shanghai Upgrade which has been reportedly scheduled for a September 2023 launch, at the latest. The entire cryptocurrency market increased today by 1.6% to $980bn, with bitcoin (BTC-USD) standing at $19,606 as of the time of writing, a change of 1.68% over the past 24 hours. The',\n",
       "  'The beta version of Bluesky app created by Jack Dorsey is available now Rishi Sunak has been appointed as Britain’s prime minister after Liz Truss resigned last week. Could the UK become a world-class crypto-hub under his premiership? Yahoo Finance asked key crypto-analysts what they think might happen under Sunak\\'s reign. The appointment of Rishi Sunak as prime minister could be a fresh opportunity to set favourable regulatory conditions to promote the UK as a world-leading crypto-hub. On Tuesday, bitcoin was unimpressed by the latest appointment in the revolving-doors of UK politics. Bitcoin (BTC-USD) has side-stepped along the $19k mark for the past week, and ether (ETH-USD), the second-largest cryptocurrency, tip-toed in its footsteps, up only 0.3% in the past seven days to $1,344. Read more: Crypto live prices Crypto analysts have identified key areas where the former Chancellor of the Exchequer could boost the UK\\'s standing as a hub for digital assets, distributed ledger technology and cryptocurrencies. But, before we look into the initiatives that Sunak could implement, let\\'s review the interest he has shown in blockchain-based industries to date. In April, Sunak elaborated on a plan to make the UK “a global cryptoasset technology hub”, where alongside former Economic Secretary to the Treasury John Glen, he laid out a comprehensive roadmap for UK’s crypto future. Watch: US Senator: \\'Digital assets will be as big as the internet itself\\' | The Crypto Mile This included the development of new legislation for a ‘financial market infrastructure sandbox’ that can aid crypto-firms to innovate. As chancellor he oversaw a Finanical Conduct Authority-led ‘CryptoSprint’ to further encourage the innovation of distributed ledger technology (DLT) within the UK. Blockchain technology is a key method for creating the secure distributed ledger technology that is driving innovation in finance, information exchange and \\'smart\\' contracts for multiple sectors of the economy. Sunak, who was also the chief secretary to the Treasury, oversaw an initiative with the Royal Mint to create an exclusive NFT, plus the formation of an engagement group to work more closely with industry. Earlier this year the Royal Mint stated: \"As part of',\n",
       "  \"Emergency bond buying operation expanded for the second time this week Bitcoin and ethereum prices have dropped as the entire cryptocurrency market falls below the $1tn level. Bitcoin (BTC-USD) spent much of Monday trading sideways before a fall on Tuesday to around $19,050, seeing the digital asset fall roughly 2% over the past 24 hours. Ethereum (ETH-USD) fell further, down almost 3% to $1,284 (£1160), despite the supply of ether turning deflationary this week. Check: Crypto live prices The total supply of ether, Ethereum's indigenous cryptocurrency, decreased by 0.02% in the past week, marking the first deflationary period where more ether is destroyed than created since the network transitioned to proof of stake in September. Other digital assets faired even worse with cardano (ADA-USD) slipping almost 6% to $0.39 and ripple (XRP-USD) also down almost 6% to $0.48. Watch: 'Bitcoin will eat into global finance until it's $1m per coin' | The Crypto Mile Memecoins like shiba inu (SHIB-USD) and dogecoin are both down, with dogecoin (DOGE-USD) down nearly 4% to $0.059 and shiba inu down almost 6% to $0.00001. The current crypto bear market is correlating with stumbling global stock markets. On Monday US equity markets, such as the S&P 500 (^GSPC) and Nasdaq (^IXIC), fell for a fourth day as prospects for policy tightening and geopolitical risks weighed on investor sentiment. . Stocks in London fell into the red on Tuesday as weak jobs data and another Bank of England (BoE) intervention reinforced a caution among investors. The FTSE 100 (^FTSE) fell 0.6% after opening, while the CAC (^FCHI) tumbled 0.4% in Paris, and the DAX (^GDAXI) was 0.5% lower in Frankfurt. As the Bank of England enacts fresh measures to limit the rout in UK government bonds the pound extended its recent decline against the dollar, with investors suspecting more monetary tightening by the US Federal Reserve. Amid the uncertainty over the UK economy, JPMorgan Chase CEO Jamie Dimon said new governments “always have issues” and that the British government should be “given the benefit of the doubt” following a turbulent first month in office. Speaking at\",\n",
       "  'Cosmos (CRYPTO: ATOM) has blazed its path in blockchain by approaching the blockchain equation not with a single star blockchain but with its stated \"internet of blockchains,\" with Cosmos hub providing the infrastructure for each team to build its project on a dedicated chain that suits its particular needs. One of their most high-profile use cases is Crypto.com, one of the world\\'s most popular crypto wallets with over 50 million users. Cronos is working directly with Crypto.com to provide an EVM (Ethereum Virtual Machine) bridge that connects the Cosmoverse to the father of all DeFi chains, Ethereum (CRYPTO: ETH). Intent on creating a blockchain with superior interoperability, Cronos claims to be among the top 10 blockchains with close to 1 million users. Cronos recently integrated the Cronos Play plugin for Epic Games\\' Unreal Marketplace, the secondary market for DLC and objects you can buy to incorporate into your game. The Cronos Play for Unreal Engine Plugin is free on the Unreal Engine Marketplace. The Plugin has been downloaded more than 15,000 times since its launch in mid-October. Cronos has also launched Cronos Cruisers NFTs as a utility for next-generation Web3 users through the Cosmos-based NFT marketplace, Minted. We interviewed Ken Timsit, managing director of Cronos Chain and Cronos Labs Accelerator, about the project\\'s trajectory of the first Ethereum bridge. BZ: What is the objective of Cronos? Timsit:\\xa0\"At a high level, the vision of Cronos is to be one of the chains that will bring the next billion users to Web3. We believe DeFi and self-custody should not be separated from fiat currencies and the banking system. The next generation of users will not be as attached to specific ecosystems of chains. For many of those users, their first experience of crypto is through a centralized exchange where they don\\'t know where what chains are transacting to because everything is available in the same interface. When we built Cronos, we made it the first Cosmos chain that is EVM-compatible (Ethereum Virtual Machine) to ensure robust interoperability and a broad range of DApps. That means it\\'s the Cosmos SDK and the Tendermint'],\n",
       " 'TSLA': ['Oct 24 (Reuters) - Toyota (7203.T) is considering a reboot of its electric-car strategy to better compete in a booming market it has been slow to enter, and has halted some work on existing EV projects, four people with knowledge of the still-developing plans said. The proposals under review, if adopted, would amount to a dramatic shift for Toyota and rewrite the $38-billion EV rollout plan the Japanese automaker announced last year to better compete with the likes of Tesla (TSLA.O). A working group within Toyota has been charged with outlining plans by early next year for improvements to its existing EV platform or for a new architecture, the four individuals said. In the meantime, Toyota has suspended work on some of the 30 EV projects announced in December, which according to the sources and a document reviewed by Reuters include the Toyota Compact Cruiser crossover and the battery-electric Crown. Toyota said it was committed to carbon neutrality but declined to comment on specific initiatives. \"In order to achieve carbon neutrality, Toyota\\'s own technology - as well as the work we are doing with a range of partners and suppliers - is essential,\" the company said in response to questions from Reuters. The four sources declined to be identified because the plans have not been made public. The revamp under consideration could slow the rollout of EVs already on the drawing board. But it would also give Toyota a chance to compete with a more efficient manufacturing process, as industry-wide EV sales run past Toyota\\'s earlier projections. In addition, it would address criticism by green investors and environmental groups who argue that Toyota, once a darling of environmentalists, has been too slow to embrace EVs. As part of the review, Toyota is considering a successor to its EV-underpinning technology called e-TNGA, unveiled in 2019. That would allow Toyota to bring down costs, the people said. The first EV based on e-TNGA — the bZ4X crossover — hit the market earlier this year although its launch was marred by a recall that forced Toyota to suspend production from June. Production resumed',\n",
       "  '\\nEditor’s Note: Frida Ghitis, (@fridaghitis) a former CNN producer and correspondent, is a world affairs columnist. She is a weekly opinion contributor to CNN, a contributing columnist to The Washington Post and a columnist for World Politics Review. The views expressed in this commentary are her own. View more opinion on CNN.\\n \\n      If Elon Musk’s actions didn’t have such powerful consequences, we could sit back and enjoy the show. But, since he likes weighing in heavily on consequential matters, the rest of the world has to worry about the impact and wonder whose side he’s on. What are the principles – moral, ethical, financial – that drive his rambunctious forays into world affairs?\\n   \\n      Nothing in Musk’s monumental series of business accomplishments suggest that he has any expertise to delve into the world’s most dangerous conflicts. But that hasn’t stopped him. Musk has been expounding on the Russia-Ukraine war and on Taiwan’s tensions with Beijing with the self-confidence of someone who knows what he’s talking about. \\n   \\n      Never mind that his proposals won the support of dictators. Like some extremely wealthy men, Musk may operate under the delusion that he is a genius at everything. He combines the arrogance of wealth with the thirst for attention of an insecure soul.\\n   \\n      But people who need a lot of attention make themselves vulnerable. And Musk, not content to possess the world’s largest fortune, is being played by a master manipulator.\\n   \\n      Among his many manic moves, a recent “peace” proposal for Ukraine – offered in a Twitter poll – stood out. Musk asked his 100 million followers to vote on a plan that looked like it was drafted in the Kremlin, complete with distorted history of Crimea – the Ukrainian territory annexed by Russia in 2014. \\n   \\n      It suggested that Ukraine (and one assumes the world) accept Russian',\n",
       "  \"Elon Musk told the banks that are partially funding his $44 billion Twitter acquisition he plans to close the deal by Friday, a deadline set by Delaware state court judge, Bloomberg reported Tuesday, as the world’s wealthiest man finally seems set on purchasing the social network after a very public case of buyer’s remorse. Elon Musk reportedly called up his banker buddies Monday to tell them the Twitter deal is happening. Musk broke the news on a Monday video call with the bankers, according to Bloomberg, citing sources close to the deal. Morgan Stanley, Bank of America and Barclays are the primary financiers, each committing at least $2.5 billion in debt financing for the deal. The banks will set aside the cash by Thursday, according to Bloomberg. Musk had until Friday to complete the acquisition, or he would be forced to face Twitter in a trial at Delaware’s Chancery Court as part of the company’s lawsuit to push through the deal. In total, Musk secured $12.5 billion in loans from the banks, with the rest of the funds coming from his own horde of cash, which has swelled as he sells tens of billions of dollars in Tesla stock, and a slew of equity investors, including billionaires Marc Andreesen and Larry Ellison and Qatar’s sovereign wealth fund. In April, Twitter accepted Musk’s unsolicited offer to take the company private at $54.20 per share before the parties became entangled in a six-month legal tug-of-war, with Musk trying to pull out of the deal as Twitter sued him to close the acquisition. The banks plan to keep the $13 billion in debt for the time being after facing a likely $500 million loss on any sale, according to Wall Street Journal and Reuters, a rare step for debt financiers. That would make this the largest stalled deal ever, according to Business Insider. “They’re big boys, they can deal with it,” JPMorgan Chase Dimon told CNBC earlier this month when asked about his rivals potentially taking a massive loss with Twitter. Factbox: Who is financing Elon Musk's $44 billion deal to buy Twitter?\",\n",
       "  '\\n\\t\\t\\t\\t\\t\\tLet our global subject matter experts broaden your perspective with timely insights and opinions you\\n\\t\\t\\t\\t\\t\\tcan’t find anywhere else.\\n\\t\\t\\t\\t\\t \\n\\t\\t\\t\\t\\t\\t\\t\\t\\t\\tThen ₹4,190 per monthNew customers onlyCancel anytime during your trial\\n\\t\\t\\t\\t\\t\\t\\t\\t\\t OR \\nBEST VALUE - SAVE 20%\\n \\n\\t\\t\\t\\t\\t\\t\\t\\t\\t\\tThen ₹5,667 every 3 months\\n\\t\\t\\t\\t\\t\\t\\t\\t\\t \\n\\n\\t\\t\\t\\t\\tSign in\\n\\t\\t\\t\\t\\n Check if your university has an FT membership to read for free. International Edition',\n",
       "  'Stock valuations matter. Just ask investors in Meta Platforms \\n        META,\\n        +6.01%.\\n       Facebook parent’s stock is lower today than where it traded in January 2017.  Meta’s experience over the last several years represents an extraordinary fall from grace for a company that used to dominate the market. It was one of the fabled “FAANMG” stocks whose market values were orders of magnitude bigger than all others. Its decline illustrates, once again, the gravitational pull of valuation.\\xa0 Seven years ago, in a column on the dangers of overvaluation, I included a specific warning about Facebook from Chris Brightman, CEO and CIO of Research Affiliates. Facebook is the “poster child of our new tech bubble,” he said then. To make his point, Brightman bet that Facebook stock (now Meta) would be beaten by oil company Chevron \\n        CVX,\\n        +1.04%.\\n       This was a gutsy prediction since, unlike Meta, Chevron was out of favor at that time. In contrast to Facebook’s trailing P/E ratio of 92, Chevron’s P/E was just 9. Brightman nevertheless has handily won the bet. Since the date of my column in August 2015, Chevron stock has produced a 15.6% annualized total return, according to FactSet, versus just 4.4% for Meta. The source of Meta’s dramatically lower return was not that the company was unprofitable. On the contrary, since Brightman made his bet it has produced a cumulative total of $139 billion of net income, versus $41 billion for Chevron.  Instead, the reason Brightman won his bet was that Meta investors had sky-high expectations for the company’s earnings and Chevron investors had low ones. It wouldn’t have taken much of a hiccup to cause Facebook to come up short, or much good news for Chevron’s stock to surprise to the upside. Facebook and Chevron are just two stocks, but their experience is consistent with the relative returns produced over',\n",
       "  ' Got a confidential news tip? We want to hear from you. Sign up for free newsletters and get more CNBC delivered to your inbox Get this delivered to your inbox, and more info about our products and services.\\xa0 © 2022 CNBC LLC. All Rights Reserved. A Division of NBCUniversal Data is a real-time snapshot *Data is delayed at least 15 minutes. Global Business and Financial News, Stock Quotes, and Market Data and Analysis. Data also provided by ',\n",
       "  '\\n The pressure is on for Elon Musk and his army of lawyers. The billionaire has only four days to close his deal with Twitter or face a trial — which experts say he is likely to lose. Earlier this month, the Delaware judge overseeing the court case gave the two parties until 5 p.m. ET on October 28 to agree to a new deal or the case will resume in a five-day trial in November. Judge Kathaleen St. J. McCormick is unlikely to offer an extension and would favor a quick start for the trial if Musk misses the deadline, University of Michigan business law professor Erik Gordon told Insider. Ann Lipton, a business law professor at Tulane University Law School, told Insider that, \"unless there\\'s truly some new, intervening event that was entirely out of Musk\\'s control that derails the deal, he\\'ll probably have exhausted the court\\'s supply of goodwill.\" Anat Alon-Beck, assistant professor of law at Case Western Reserve University, said Musk would likely end up buying the company even if he can\\'t complete the acquisition ahead of the deadline — after paying millions more in legal fees. But, experts say Musk is likely to reach a deal before the deadline expires on Friday. If the two parties don\\'t reach an agreement before Friday, they could technically continue to negotiate even as litigation resumes and a trial date is scheduled. But a continued court battle is unlikely to do Musk any favors. \"He knows that he has no way out of it and would like to avoid public humiliation,\" Alon-Beck told Insider. If the trial were to proceed, Musk would face a lengthy deposition and could see even more of his private texts released to the public, Gerard Filitti, senior counsel at The Lawfare Project, an international non-profit legal think tank and litigation fund based in New York City, previously told Insider. Last week, Bloomberg reported that Twitter and Musk are drawing up paperwork to close the deal ahead of the Friday deadline, citing multiple sources familiar with the matter. When Musk initially filed to end the',\n",
       "  'MEXICO CITY, Oct 24 (Reuters) - Tesla Inc (TSLA.O) Chief Executive Elon Musk is considering investing in the northern Mexican state of Nuevo Leon, which borders Texas, two people with knowledge of the matter said on Monday. Musk recently held a meeting in the state with Nuevo Leon Governor Samuel Garcia along with other local officials and Ken Salazar, the U.S. ambassador to Mexico, one of the sources said. Musk is looking in particular at Santa Catarina, a municipality on the outskirts of state capital Monterrey, one of Mexico\\'s biggest and wealthiest cities, the person added. The sources did not detail what Musk\\'s potential investment may entail. A spokesperson for the Nuevo Leon government declined to comment. Neither Tesla, the U.S. embassy, nor a representative for Santa Catarina immediately responded to requests for comment. Musk\\'s visit to Nuevo Leon was originally reported by Mexican media. Several outlets published photos of Musk apparently from the visit, including one in which he appears with Garcia\\'s wife, Mariana Rodriguez. Garcia posted several of the media articles on his Instagram account, in one case tagging Rodriguez\\'s account and writing, \"Look, look,\" without further comment. Tesla, based in Austin, Texas, has its own lane at the U.S.-Mexico border crossing in Nuevo Leon to facilitate trade for local suppliers, the state government said in August. Our Standards: The Thomson Reuters Trust Principles. A group representing self-driving car companies is appointing a former U.S. Senate aide as its new head as the industry works to convince U.S. policymakers to speed the deployment of autonomous vehicles and jumpstart stalled legislation. Reuters, the news and media division of Thomson Reuters, is the world’s largest multimedia news provider, reaching billions of people worldwide every day. Reuters provides business, financial, national and international news to professionals via desktop terminals, the world\\'s media organizations, industry events and directly to consumers. Build the strongest argument relying on authoritative content, attorney-editor expertise, and industry defining technology. The most comprehensive solution to manage all your complex and ever-expanding tax and compliance needs. The industry leader for online information for tax, accounting and finance professionals. ',\n",
       "  'Employees at Twitter are circulating an open letter protesting Elon Musk’s plan to fire as much as 75% of the company’s workforce, as the deadline for him to complete his $44 billion acquisition of the company looms, TIME has learned. Musk must complete the acquisition by Friday or face the resumption of a lawsuit in a Delaware court.  Elon Musk told prospective funders of his Twitter acquisition that he planned to replace or eradicate the jobs of nearly 75% of Twitter’s staff, reducing headcount from 7,500 to just 2,000, the Washington Post reported last week. Musk has previously claimed that the social media company is bloated, and has also said its workforce has a “strong left-wing bias.” Read More: Whether or Not He Buys Twitter, Elon Musk Has Thrown the Company Into Turmoil TIME reviewed a draft of the open letter circulating among Twitter employees on Monday. “Elon Musk’s plan to lay off 75% of Twitter workers will hurt Twitter’s ability to serve the public conversation,” said the draft of the letter, which has not yet been published. “A threat of this magnitude is reckless, undermines our users’ and customers’ trust in our platform, and is a transparent act of worker intimidation.” The letter demands that Musk commits to preserving Twitter’s current headcount if his takeover of the company goes through. It also demands he does not discriminate against employees based on their political beliefs and that he commits to “fair” severance policies and more communication about working conditions. “We demand to be treated with dignity, and to not be treated as mere pawns in a game played by billionaires,” the list of demands says. It was unclear how many Twitter employees had signed the letter at the time of publication. “Signatures will not be made public unless we have critical mass,” said a note sent to prospective signatories. Staff, Elon Musk, and Board of Directors: We, the undersigned Twitter workers, believe the public conversation is in jeopardy.  Elon Musk’s plan to lay off 75% of Twitter workers will hurt Twitter’s ability to serve the public conversation. A',\n",
       "  'By  Andrew J. Hawkins / @andyjayhawk For a guy who once said he wasn’t going to be on many future earnings calls, Elon Musk has a hard time staying away.  Last night, Tesla reported its third quarter earnings, and Musk was front and center, making boastful claims about his company’s future (bigger than Apple and Saudi Aramco), dropping hints about Tesla’s next vehicle platform, hyping the much-delayed Cybertruck, and even offering some commentary on his on-again, off-again deal to buy Twitter.  Musk defended the company’s performance despite missing delivery and revenue expectations amid fears of softening demand for Tesla’s vehicles.  “We have excellent demand for Q4 and we expect to sell every car that we make for as far as the future as we can see,” Musk said defiantly. “So the factories are running at full speed and we’re delivering every car we make and keeping operating margins strong.” But forgot these Wall Street-centric platitudes. Let’s talk about cars! And trucks! And robot cars! Yeehaw!  Tesla’s next big product launch, the Cybertruck, won’t be until next year, with Musk reiterating that production won’t start at the Texas Gigafactory until at least mid-2023. “We’re in the final lap on Cybertruck,” he said.  “Yeah, that car’s gonna be sick,” Musk said. “Hall of famer. Next level. Sorry it took longer than expected, but there were a few things that got in the way, like insane global supply chain issues.” Tesla is also continuing to work on a robotaxi platform, with Musk saying that the company has “made a lot of progress.” Musk has said that he expects to unveil the new vehicle, which is designed to be shared as part of a car-sharing service, also in 2023.  So next year is shaping up to be a big year for new product launches — if Musk is able to meet his self-imposed deadlines, which he has difficulty doing.  Keep in mind that Musk has previously predicted fully autonomous vehicles in which the driver would not need to pay attention to the driving would be available'],\n",
       " 'BTC': ['This article originally appeared in First Mover, CoinDesk’s daily newsletter putting the latest moves in crypto markets in context. Subscribe to get it in your inbox every day. Bitcoin (BTC) dropped to as low as $18,183 after the Consumer Price Index (CPI) data was released on Thursday. The Labor Department reported consumer prices in September rose 8.2% from the same month last year and 0.4% from August. U.S. consumer prices advanced to a 40-year high in September. Bitcoin was recently down 3.8% on the day. Prior to the release, there was a sudden price drop – in the span of about 30 minutes – took the bitcoin price down by $500, to about $18,575, right around 6:30 am ET (10:30 UTC). The cryptocurrency then climbed back above Futures on the S&P 500 wiped a 1% gain and slid more than 2% after CPI data showed consumer prices surged last month. The dollar rallied. Asset Ticker Returns DACS Sector Ribbon Finance  RBN   +6.52%  DeFi Chain  XCN   +3.42%  Currency PAX Gold  PAXG   +0.2%  DeFi Asset Ticker Returns DACS Sector STEPN  GMT   -13.61%  Culture & Entertainment Chiliz  CHZ   -11.87%  Culture & Entertainment Kyber Network Crystal  KNC   -11.82%  DeFi Sector classifications are provided via the Digital Asset Classification Standard (DACS), developed by CoinDesk Indices to provide a reliable, comprehensive and standardized classification system for digital assets. The CoinDesk Market Index (CMI) is a broad-based index designed to measure the market capitalization weighted performance of the digital asset market subject to minimum trading and exchange eligibility requirements. Crypto Volatility Meltdown Continues By Omkar Godbole \"The volatility index shows pressure is building up,\" Decentral researcher Lewis Harland said. \" The more it builds, the more it needs to be released and reset (either direction).\" Related Quotes (Bloomberg) -- Sign up for the New Economy Daily newsletter, follow us @economics and subscribe to our podcast.Most Read from BloombergIntel Is Planning Thousands of Job Cuts in Face of PC SlumpHere’s How Weird Things Are',\n",
       "  'Appearing on Peter McCormack\\'s \"What Bitcoin Did\" podcast, ARK Investment Management CEO Cathie Wood said she purchased $100,000 worth of bitcoin (BTC) when it was trading around $250 (which would suggest sometime in 2015). She said she hasn\\'t sold any of that initial investment, meaning her current profit on that $100,000 bet would be around $7.6 million. Wood, whose firm she co-founded is focused on innovative and disruptive investments, said that while she was able to make that personal bet on bitcoin, she couldn\\'t do the same in the ARK funds themselves as they were and are only allowed to invest in securities. ARK eventually was able to get bitcoin exposure via the Grayscale Bitcoin Trust (GBTC). The ARK Next Generation Internet Fund (ARKW) currently holds about 5.9 million shares of GBTC valued at roughly $67.4 million. Wood continues to be bullish on bitcoin, and sees the Grayscale Trust – currently selling at about a 35% discount to net asset value – as trading at a \"fire sale\" price given the chance that at some point it will be cleared to convert into a spot exchange-traded fund (if regulators allow). Grayscale is owned by CoinDesk parent company Digital Currency Group. Read more: Valkyrie Funds to Offer Crypto SMAs, Challenging Ark and Franklin Templeton Related Quotes',\n",
       "  'Thank you for your patience. Our engineers are working quickly to resolve the issue.',\n",
       "  'The beta version of Bluesky app created by Jack Dorsey is available now Bitcoin has been trading flat throughout the past week, but still holding above $19k. Now analysts claim a price indicator is signalling a bullish breakout for the world\\'s largest cryptocurrency by market cap. The entire cryptocurrency market increased today by 0.3% to $970bn, with bitcoin (BTC-USD) standing at $19,300 as of the time of writing, a change of 0.1% over the past 24 hours. Check: Crypto live prices On Tuesday, altcoins also sidestepped with investors remaining cautious. Ethereum (ETH-USD) jumped over 1% to $1,347.29, up 1% in the past week. The recent price action saw bitcoin\\'s market cap at $370,397,177,638. The leading digital asset has seen its value deteriorate by approximately 57% in one year. If past Bollinger bandwidth patterns are taken into account, going back to 2015, bitcoin (BTC-USD) has bounced back after a draw-down of the price by approximately 50%. Bollinger bandwidths are used to predict asset volatility and price action. Referring to the indicators that suggest an imminent price movement, George Tung from Cryptosrus said: \"From a chart perspective, these indicators are showing that bitcoin is ready to head higher.\" One price indicator that has also been foreshadowing a significant price movement for bitcoin (BTC-USD) is the current difference between the mining hash rate and the price of bitcoin. The bitcoin mining hash rate is up around 90% from one year ago, this means that more mining activity is happening on the network. Watch: \\'Bitcoin will eat into global finance until it\\'s $1m per coin\\' | The Crypto It is also a sign of network security, assuming the increased activity is relatively decentralised. The mining hash rate describes the number of calculations per second that are being conducted to try and generate a new block in the bitcoin blockchain. On his Youtube channel, crypto-analyst George Tung added: \"The hash rate for bitcoin continues to go higher and higher. \"This is important as if there is a large deviation between the hash rate and the price, that usually indicates that a major movement is going',\n",
       "  'The term ‘out with the old and in with the new’ has garnered more meaning than ever before during our ongoing technological revolution. Technologies no longer change every decade but within each year, and the blockchain is no exception. Arguably one of the most revolutionary technologies of our age, the full potential of the blockchain has not yet been discovered. All we do know is that the crypto market moves, and when it does, it moves fast. Grandparents, Bitcoin (BTC) and Litecoin (LTC) are the oldest cryptocurrencies to ever have existed and survive. Bitcoin (BTC) was launched in 2009, and Litecoin (LTC) in 2011. In crypto terms, these two are primaeval. BTC and LTC have seen and been subjected to a lot during their decade-long-life spans and, as a result, garnered a well-deserved reputation. However, all good things must come to an end, and as the markets move forward to newer cryptos such as Big Eyes Coin, the cracks within Bitcoin (BTC) and Litecoin (LTC) begin to show. Bitcoin is a legend. The most invested in crypto to date, Bitcoin was the cause of everything related to crypto. The fact that this currency has managed to hold the top spot for over a decade is nothing short of a miracle. And yet, as the market experiences new growing pains and moves in a different direction, Bitcoin is struggling to keep up. Whether it be the energy-consuming proof-of-work mechanism that has bogged down the Bitcoin network or its feeble security, Bitcoin is showing signs of age. Litecoin (LTC) has 11+ years of history. Although not as successful as Bitcoin, this grandpa coin ranks 20th place on CoinMarketPlace. Initially inspired by Bitcoin (BTC), Litecoin’s advantage is that it is a faster and cheaper alternative than the number one cryptocurrency. Litecoin also boasts better wealth centralization than Bitcoin (BTC). Unfortunately, Litecoin’s advantages are also its disadvantages. If Bitcoin were to improve on its flaws, Litecoin would fall into irrelevancy. Additionally, many of the same faulty technological problems that plague Bitcoin also plague Litecoin. Big Eyes Coin (BIG) doesn’t just represent a technological advancement',\n",
       "  'By Praveen Menon and Byron Kaye SYDNEY, Oct 26 (Reuters) - The cryptocurrency industry said on Wednesday it was disappointed with Australia\\'s decision to continue treating digital currencies as assets for tax purposes, and not as foreign currency. The government said in its budget announcement on Tuesday it would introduce legislation to enshrine the treatment of digital currencies such as Bitcoin as an asset. This means investors would pay capital gains tax on profit from selling crypto assets through exchanges and when they trade digital assets. The legislation removes uncertainty following the decision by El Salvador to adopt Bitcoin as legal tender in September last year, the Australian government said in its budget announcement. Australia said, however, government-issued digital currency, or central bank digital currency (CBDC), would be treated as foreign currency. Around 90% of the world\\'s central banks are now using, trialling or looking into CBDCs. Most don\\'t want to be left behind by Bitcoin and other cryptocurrencies, but are grappling with technological complexities. Mitchell Travers, a former cryptocurrency exchange operator and founder of blockchain consultant Soulbis, said the budget change was unclear and appeared at odds with government testing into the viability of a CBDC. \"It would be ill advised for the government to really take an enforcement approach to the taxation of crypto assets in its early stages, especially considering the fact that the Treasury is also investing in trying to migrate the traditional technology systems that back our financial system over towards digital assets,\" Travers said. \"It would be an ironic dichotomy if they were to enforce the taxation of digital assets and then launch their own CBDC without clear definitions of what token equals what tax treatment.\" The crypto sector is largely unregulated in Australia and the Treasury said in August it would prioritise ‘token mapping’ work, which will help identify how crypto assets and related services should be regulated. El Salvador, which adopted Bitcoin as legal tender last year, was left facing heavy economic losses from the huge drop in crypto prices. \"I think they are taking a snapshot in time and making an',\n",
       "  'The beta version of Bluesky app created by Jack Dorsey is available now Rishi Sunak has been appointed as Britain’s prime minister after Liz Truss resigned last week. Could the UK become a world-class crypto-hub under his premiership? Yahoo Finance asked key crypto-analysts what they think might happen under Sunak\\'s reign. The appointment of Rishi Sunak as prime minister could be a fresh opportunity to set favourable regulatory conditions to promote the UK as a world-leading crypto-hub. On Tuesday, bitcoin was unimpressed by the latest appointment in the revolving-doors of UK politics. Bitcoin (BTC-USD) has side-stepped along the $19k mark for the past week, and ether (ETH-USD), the second-largest cryptocurrency, tip-toed in its footsteps, up only 0.3% in the past seven days to $1,344. Read more: Crypto live prices Crypto analysts have identified key areas where the former Chancellor of the Exchequer could boost the UK\\'s standing as a hub for digital assets, distributed ledger technology and cryptocurrencies. But, before we look into the initiatives that Sunak could implement, let\\'s review the interest he has shown in blockchain-based industries to date. In April, Sunak elaborated on a plan to make the UK “a global cryptoasset technology hub”, where alongside former Economic Secretary to the Treasury John Glen, he laid out a comprehensive roadmap for UK’s crypto future. Watch: US Senator: \\'Digital assets will be as big as the internet itself\\' | The Crypto Mile This included the development of new legislation for a ‘financial market infrastructure sandbox’ that can aid crypto-firms to innovate. As chancellor he oversaw a Finanical Conduct Authority-led ‘CryptoSprint’ to further encourage the innovation of distributed ledger technology (DLT) within the UK. Blockchain technology is a key method for creating the secure distributed ledger technology that is driving innovation in finance, information exchange and \\'smart\\' contracts for multiple sectors of the economy. Sunak, who was also the chief secretary to the Treasury, oversaw an initiative with the Royal Mint to create an exclusive NFT, plus the formation of an engagement group to work more closely with industry. Earlier this year the Royal Mint stated: \"As part of',\n",
       "  'Bitcoin miners are queuing up to borrow from a special purpose decentralized finance (DeFi) lending pool created by Maple Finance, as a stressed out crypto industry explores creative ways to get through the bear market. Since Maple and credit agent Icebreaker launched the miner finance pool a month back, a pipeline of about six to ten mining companies is in place to form the first cohort of borrowers, with another twenty-five on the waiting list, according to Maple Finance CEO Sidney Powell. Mining companies, many of whom are already burdened with debt, are feeling the chill of the crypto winter as the price of bitcoin languishes around the $20,000 mark and the cost of electricity rockets. Most recently, Compute North, one of the largest data centers that host mining computers, filed for bankruptcy, citing market conditions as one of the reasons. With crypto asset prices down, which saw bitcoin falling more than 50% this year, capital from usual sources have completely dried up. Given the capital intensive business model of the crypto mining business, miners are looking for alternatives, and private credit seems to be offering new and creative ways to help firms that are under stress, said Powell. Read more: Wall Street Analyst ‘Pulling the Plug’ on Bitcoin Miners Owing to Bear Market Woes There are strings attached of course. Interest rates are going to be around 18%-20% and the loans are being offered on a “full recourse” basis, which will require a guarantee over all the assets of a miner – not just mining rigs, but also property and power equipment – should they default or seek bankruptcy protection. A lack of full recourse loans has meant some lenders to the mining sector have got into difficulty, Powell added. “The sector needs liquidity, so we are figuring out creative ways to assist,” Powell said in an interview with CoinDesk. “Typically, the firms you would want to underwrite are those with low levels of debt on their balance sheet, and who have things like power purchase agreements in place, so effectively a longer line of sight on what their',\n",
       "  \"What can be done to stop it from collapsing? And what does the fall mean for you? Bitcoin made a surprise rally as equity markets continue to slide and amidst warnings that the pound could fall below dollar parity. The UK is experiencing slower growth and rising inflation caused by the government's borrowing throughout the coronavirus pandemic, supply chain disruptions with China and rising commodity prices due to the war in Ukraine. This inflationary environment was then exacerbated by the British chancellor of the exchequer Kwasi Kwarteng who signalled that he would commit to billions of pounds of extra borrowing. Last Friday, chancellor Kwasi Kwarteng said he intends to scrap the UK's top income-tax rate of 45%, stop a scheduled rise in the national insurance rate, and abolish the stamp duty on property purchases of under £250,000 ($270,000). Check: Crypto live prices He followed this announcement on Sunday, with the suggestion there could be even more tax cuts coming. Forex markets responded to the new chancellor's mini budget on Friday with the pound falling against the dollar to its lowest point on record (GBPUSD=X). Although the dollar is rapidly strengthening, US equities are in a tumble, with Wall Street’s S&P 500 (^GSPC) closed on Monday at lowest level since December 2020. However, amid the collapsing value of the pound and sliding equities, bitcoin (BTC-USD) has experienced an early week rally. The world's largest digital asset by market cap (BTC-USD) is up 8% in the last 24 hours according to data from Coingecko, now priced at $20,240 per coin. Cryptocurrency prices have shot up across the board with the combined market cap of all digital assets shooting up by 5.7% today to $1.01tn. Watch: 'Bitcoin will eat into global finance until it's $1m per coin' | The Crypto Mile El Salvador's bitcoin-friendly president Nayib Bukele seized the opportunity to remind the UK of tweets he posted just after the Central American nation made bitcoin legal tender in September 2021. At that time Bukele's regime faced ridicule from the IMF, the European Central Bank and the Bank of England for presiding over\",\n",
       "  \"Bitcoin is dull – and will probably be dull for the next year and a half — but it will eventually see all-time highs thereafter, Peter Brandt, founder and CEO of proprietary trading firm Factor LLC, said Monday on CoinDesk’s “First Mover” program. “We [will] just chop between.. let’s say $17,000 and $23,000,” said Brandt. “I think we will bottom here at some point in time, maybe early next year, but then I’m not looking for bitcoin really to become exciting again for another couple of years.” Bitcoin’s (BTC) price was sticking around $19,200 on Monday, and has stayed below $20,000 for over two weeks. The highly regarded technical trader who has been in the business since the 1970s predicted it would take 32 months before BTC reaches a new all-time high. Until then, he said expects the largest cryptocurrency to bottom at $13,000. Bitcoin’s price has come under pressure from the U.S. Federal Reserve's hawkish interest rate hikes, meant to curb this year’s hot inflation. Traders and investors across the markets are eyeing the Fed’s next meeting of its monetary-policy committee, the Federal Open Market Committee, or FOMC. Based on the CME’s data of fed funds futures contracts, Wall Street expects a fourth consecutive 75-basis point interest rate hike in November and then possibly smaller hikes thereafter. Brandt, however, said he didn’t see the interest rate hikes dropping off and expects a 75-basis point increase on Nov. 2 followed by another 75 bps increase on Dec. 14. “I think that the Fed knows that inflation is a killer, he said. “The Fed needs to regain its credibility. And to do that, I think the Fed really needs to bring inflation rates back down to at least four [percent].” The most recent U.S. annual inflation rate, measured in September, was at 8.2%. Bitcoin correlated to.. bitcoin Bitcoin has been seen as a “risk on” asset, a sign of the market’s appetite for risk. But as traditional market turmoil continues, BTC has seen lower volatility compared to stocks. Meanwhile, BTC”s correlation with gold – which is considered a safe-haven asset during\"]}"
      ]
     },
     "execution_count": 72,
     "metadata": {},
     "output_type": "execute_result"
    }
   ],
   "source": [
    "articles = {ticker:scrape_and_process(cleaned_urls[ticker]) for ticker in monitored_tickers}\n",
    "articles"
   ]
  },
  {
   "cell_type": "code",
   "execution_count": 73,
   "id": "bb5c4cdb",
   "metadata": {},
   "outputs": [
    {
     "data": {
      "text/plain": [
       "'A decentralized finance (DeFi) product that launched earlier this year to help investors profit from a sideways trending market is generating desired results. The \"Crab\" strategy, designed by leading DeFi options platform Opyn, is built to make money during bouts of low ether (ETH) price volatility. It has earned 14% returns in U.S. dollar terms and 42% in ether terms since its v2 went live in late July. Ether has dropped 20% since the end of July, however, the cryptocurrency has primarily traded between $1,100 to $1,300 in the past four weeks. The strategy is yet another example of the DeFi industry helping investors bypass complexities involved with traditional option strategies like \"short straddle\" often set up by sophisticated market participants during a market lull. In case of a short straddle, a trader sells bullish and bearish options contracts called call and put on a centralized exchange. If the market stays rangebound, the short straddle makes money. Setting up such multi-leg strategies is easier said than done, as traders must select appropriate levels to buy/sell options and the expiration date and actively manage the position as several factors influence options prices. In Opyn\\'s crab strategy, users only need to deposit ETH as collateral to start profiting from a comatose market. And investors seem to be piling money into the automated product. \"When Crab v2 went live, the strategy had 888 ETH. Currently, the strategy has 5,378 ETH, a 505% increase in 3 months,\" Wade Prospere, head of marketing and community at Opyn, told CoinDesk. The crab strategy is built on top of Opyn\\'s Squeeth or squared ether – an index tracking ether\\'s price change to the power of two and allowing buyers to earn more when the market rallies and lose less during price drops in return for hefty funding rates – costs for keeping the so-called power perpetual position open. After users deposit ETH as collateral, the crab vault combines long ETH with a short (bearish) Squeeth position, creating a market-neutral position. That allows crab depositors to collect the funding rate – the cost of holding long positions –'"
      ]
     },
     "execution_count": 73,
     "metadata": {},
     "output_type": "execute_result"
    }
   ],
   "source": [
    "articles['ETH'][2]"
   ]
  },
  {
   "cell_type": "markdown",
   "id": "94d0715d",
   "metadata": {},
   "source": [
    "#### 4.4. Summarise all Articles"
   ]
  },
  {
   "cell_type": "code",
   "execution_count": 75,
   "id": "635b2396",
   "metadata": {},
   "outputs": [],
   "source": [
    "def summarize(articles):\n",
    "    summaries = []\n",
    "    for article in articles:\n",
    "        input_ids = tokenizer.encode(article, return_tensors='pt')\n",
    "        output = model.generate(input_ids, max_length=55, num_beams=5, early_stopping=True)\n",
    "        summary = tokenizer.decode(output[0], skip_special_tokens=True)\n",
    "        summaries.append(summary)\n",
    "    return summaries"
   ]
  },
  {
   "cell_type": "code",
   "execution_count": 77,
   "id": "378d9f27",
   "metadata": {},
   "outputs": [
    {
     "data": {
      "text/plain": [
       "{'ETH': ['Ethereum’s net issuance rate has fallen since the Merge. Bitcoin’s inflation rate is currently about 1.75%',\n",
       "  'Core principles like ‘credible neutrality’ seen at odds with regulators. Two versions of the Chain: one regulated, one not',\n",
       "  'Ether has dropped 20% since the end of July, but has rebounded in past four weeks. DeFi option platform Opyn says it has seen a 505% increase in users.',\n",
       "  'Analysts claim a price indicator is pointing to a significant move.',\n",
       "  'Reversibility would probably be a popular feature, especially among risk-averse. Stanford researchers don’t intend for Ethereum to be 100% reversible',\n",
       "  'Critics question whether donations went to the right place. Bitcoin and Ether donations flowed to Celsius-controlled wallets',\n",
       "  'The Ethereum Foundation is working on the next major upgrade. Ethereum Foundation is launching a pre-Shangdong testnet',\n",
       "  'Rishi Sunak appointed prime minister after Liz Truss resigned. Key crypto-analysts ask what could happen under his premiership',\n",
       "  'Emergency bond buying expanded for the second time this week. Bitcoin, ethereum prices fall below $1tn level',\n",
       "  'Cronos is among the top 10 blockchains with close to 1 million users.'],\n",
       " 'TSLA': ['Work has been halted on existing EV projects, sources say',\n",
       "  'Tesla’s Elon Musk offers ‘peace’ plan for Ukraine',\n",
       "  'Musk has until Friday to complete the deal. Primary financiers Morgan Stanley, Bank of America and Barclays',\n",
       "  'FT World columnists offer in-depth analysis, in-depth features.',\n",
       "  'Facebook parent’s stock is lower today than where it traded in 2017. Over the last five years, Chevron has beaten Meta in total returns',\n",
       "  'Starbucks to buy back some of its own stock.',\n",
       "  'Elon Musk has four days to close his deal or face trial. Experts say he is likely to pay millions more in legal fees',\n",
       "  'Musk recently held a meeting in the state, sources say. Tesla has no immediate plans to set up shop in Nuevo Leon',\n",
       "  '‘A threat of this magnitude is reckless,’ says draft of open letter. Musk must complete his $44 billion acquisition by Friday',\n",
       "  'Musk says ‘ factories are running at full speed,’ trucks to be ‘sick’. Tesla’s next big product launch won’t be until 2023'],\n",
       " 'BTC': ['Consumer prices rose 8.2% in September from a year earlier. Bitcoin climbed back above Futures on the S&P 500 after the release',\n",
       "  'Cathie Wood says she bought $100,000 worth of bitcoin in 2015. ARK Next Generation Internet Fund holds about 5.9 million shares of GBTC',\n",
       "  'We are aware of the issue and are working to resolve it.',\n",
       "  'Analysts claim a price indicator is pointing to a significant move.',\n",
       "  'Grandparents, Bitcoin (BTC) and Litecoin (LTC) are showing signs of age.',\n",
       "  'Australia says central bank digital currency will be treated as foreign currency.',\n",
       "  'Rishi Sunak appointed prime minister after Liz Truss resigned. Key crypto-analysts ask what could happen under his premiership',\n",
       "  'About six to ten miners in pipeline, CEO says. DeFi loans are being offered on a ‘full recourse’ basis',\n",
       "  'Sterling falls to record low against dollar on Friday. Bitcoin made a surprise rally as equity markets slide',\n",
       "  'Peter Brandt expects coin’s price to bottom at $13,000. Says Fed needs to ‘regain its credibility’: Brandt']}"
      ]
     },
     "execution_count": 77,
     "metadata": {},
     "output_type": "execute_result"
    }
   ],
   "source": [
    "summaries = {ticker:summarize(articles[ticker]) for ticker in monitored_tickers}\n",
    "summaries"
   ]
  },
  {
   "cell_type": "code",
   "execution_count": 79,
   "id": "0fef3754",
   "metadata": {},
   "outputs": [
    {
     "data": {
      "text/plain": [
       "['Consumer prices rose 8.2% in September from a year earlier. Bitcoin climbed back above Futures on the S&P 500 after the release',\n",
       " 'Cathie Wood says she bought $100,000 worth of bitcoin in 2015. ARK Next Generation Internet Fund holds about 5.9 million shares of GBTC',\n",
       " 'We are aware of the issue and are working to resolve it.',\n",
       " 'Analysts claim a price indicator is pointing to a significant move.',\n",
       " 'Grandparents, Bitcoin (BTC) and Litecoin (LTC) are showing signs of age.',\n",
       " 'Australia says central bank digital currency will be treated as foreign currency.',\n",
       " 'Rishi Sunak appointed prime minister after Liz Truss resigned. Key crypto-analysts ask what could happen under his premiership',\n",
       " 'About six to ten miners in pipeline, CEO says. DeFi loans are being offered on a ‘full recourse’ basis',\n",
       " 'Sterling falls to record low against dollar on Friday. Bitcoin made a surprise rally as equity markets slide',\n",
       " 'Peter Brandt expects coin’s price to bottom at $13,000. Says Fed needs to ‘regain its credibility’: Brandt']"
      ]
     },
     "execution_count": 79,
     "metadata": {},
     "output_type": "execute_result"
    }
   ],
   "source": [
    "summaries['BTC']"
   ]
  },
  {
   "cell_type": "markdown",
   "id": "809f1940",
   "metadata": {},
   "source": [
    "### 5. Adding Sentiment Analysis"
   ]
  },
  {
   "cell_type": "code",
   "execution_count": 81,
   "id": "3a641a91",
   "metadata": {},
   "outputs": [
    {
     "name": "stderr",
     "output_type": "stream",
     "text": [
      "No model was supplied, defaulted to distilbert-base-uncased-finetuned-sst-2-english and revision af0f99b (https://huggingface.co/distilbert-base-uncased-finetuned-sst-2-english).\n",
      "Using a pipeline without specifying a model name and revision in production is not recommended.\n"
     ]
    }
   ],
   "source": [
    "from transformers import pipeline\n",
    "sentiment = pipeline('sentiment-analysis')"
   ]
  },
  {
   "cell_type": "code",
   "execution_count": 83,
   "id": "9eb1c7c5",
   "metadata": {},
   "outputs": [
    {
     "data": {
      "text/plain": [
       "[{'label': 'POSITIVE', 'score': 0.5207523107528687},\n",
       " {'label': 'NEGATIVE', 'score': 0.8885747790336609},\n",
       " {'label': 'POSITIVE', 'score': 0.9979088306427002},\n",
       " {'label': 'NEGATIVE', 'score': 0.5154085755348206},\n",
       " {'label': 'NEGATIVE', 'score': 0.7475226521492004},\n",
       " {'label': 'NEGATIVE', 'score': 0.9965127110481262},\n",
       " {'label': 'NEGATIVE', 'score': 0.9811481833457947},\n",
       " {'label': 'NEGATIVE', 'score': 0.9894652366638184},\n",
       " {'label': 'NEGATIVE', 'score': 0.8797296285629272},\n",
       " {'label': 'NEGATIVE', 'score': 0.9996774196624756}]"
      ]
     },
     "execution_count": 83,
     "metadata": {},
     "output_type": "execute_result"
    }
   ],
   "source": [
    "sentiment(summaries['BTC'])"
   ]
  },
  {
   "cell_type": "code",
   "execution_count": 84,
   "id": "cb35d8da",
   "metadata": {},
   "outputs": [
    {
     "data": {
      "text/plain": [
       "{'ETH': [{'label': 'NEGATIVE', 'score': 0.999365508556366},\n",
       "  {'label': 'NEGATIVE', 'score': 0.8471165299415588},\n",
       "  {'label': 'POSITIVE', 'score': 0.6509277820587158},\n",
       "  {'label': 'NEGATIVE', 'score': 0.5154085755348206},\n",
       "  {'label': 'NEGATIVE', 'score': 0.9586257338523865},\n",
       "  {'label': 'NEGATIVE', 'score': 0.9961395859718323},\n",
       "  {'label': 'NEGATIVE', 'score': 0.9860681295394897},\n",
       "  {'label': 'NEGATIVE', 'score': 0.9811481833457947},\n",
       "  {'label': 'NEGATIVE', 'score': 0.9978916049003601},\n",
       "  {'label': 'POSITIVE', 'score': 0.9870172142982483}],\n",
       " 'TSLA': [{'label': 'NEGATIVE', 'score': 0.9994420409202576},\n",
       "  {'label': 'POSITIVE', 'score': 0.9971206188201904},\n",
       "  {'label': 'NEGATIVE', 'score': 0.6654184460639954},\n",
       "  {'label': 'POSITIVE', 'score': 0.9985582232475281},\n",
       "  {'label': 'NEGATIVE', 'score': 0.9994505047798157},\n",
       "  {'label': 'NEGATIVE', 'score': 0.9938549399375916},\n",
       "  {'label': 'NEGATIVE', 'score': 0.9967318773269653},\n",
       "  {'label': 'NEGATIVE', 'score': 0.9980599284172058},\n",
       "  {'label': 'NEGATIVE', 'score': 0.9948495030403137},\n",
       "  {'label': 'NEGATIVE', 'score': 0.9968855977058411}],\n",
       " 'BTC': [{'label': 'POSITIVE', 'score': 0.5207523107528687},\n",
       "  {'label': 'NEGATIVE', 'score': 0.8885747790336609},\n",
       "  {'label': 'POSITIVE', 'score': 0.9979088306427002},\n",
       "  {'label': 'NEGATIVE', 'score': 0.5154085755348206},\n",
       "  {'label': 'NEGATIVE', 'score': 0.7475226521492004},\n",
       "  {'label': 'NEGATIVE', 'score': 0.9965127110481262},\n",
       "  {'label': 'NEGATIVE', 'score': 0.9811481833457947},\n",
       "  {'label': 'NEGATIVE', 'score': 0.9894652366638184},\n",
       "  {'label': 'NEGATIVE', 'score': 0.8797296285629272},\n",
       "  {'label': 'NEGATIVE', 'score': 0.9996774196624756}]}"
      ]
     },
     "execution_count": 84,
     "metadata": {},
     "output_type": "execute_result"
    }
   ],
   "source": [
    "scores = {ticker:sentiment(summaries[ticker]) for ticker in monitored_tickers}\n",
    "scores"
   ]
  },
  {
   "cell_type": "code",
   "execution_count": 86,
   "id": "65481d03",
   "metadata": {},
   "outputs": [
    {
     "name": "stdout",
     "output_type": "stream",
     "text": [
      "Analysts claim a price indicator is pointing to a significant move. NEGATIVE 0.5154085755348206\n"
     ]
    }
   ],
   "source": [
    "print(summaries['ETH'][3], scores['ETH'][3]['label'], scores['ETH'][3]['score'])"
   ]
  },
  {
   "cell_type": "code",
   "execution_count": 88,
   "id": "a2e3bdc1",
   "metadata": {},
   "outputs": [
    {
     "data": {
      "text/plain": [
       "0.5207523107528687"
      ]
     },
     "execution_count": 88,
     "metadata": {},
     "output_type": "execute_result"
    }
   ],
   "source": [
    "scores['BTC'][0]['score']"
   ]
  },
  {
   "cell_type": "markdown",
   "id": "ce05f4d4",
   "metadata": {},
   "source": [
    "### 6. Exporting Results to CSV\n"
   ]
  },
  {
   "cell_type": "code",
   "execution_count": 90,
   "id": "6ba674e7",
   "metadata": {},
   "outputs": [
    {
     "data": {
      "text/plain": [
       "{'ETH': ['Ethereum’s net issuance rate has fallen since the Merge. Bitcoin’s inflation rate is currently about 1.75%',\n",
       "  'Core principles like ‘credible neutrality’ seen at odds with regulators. Two versions of the Chain: one regulated, one not',\n",
       "  'Ether has dropped 20% since the end of July, but has rebounded in past four weeks. DeFi option platform Opyn says it has seen a 505% increase in users.',\n",
       "  'Analysts claim a price indicator is pointing to a significant move.',\n",
       "  'Reversibility would probably be a popular feature, especially among risk-averse. Stanford researchers don’t intend for Ethereum to be 100% reversible',\n",
       "  'Critics question whether donations went to the right place. Bitcoin and Ether donations flowed to Celsius-controlled wallets',\n",
       "  'The Ethereum Foundation is working on the next major upgrade. Ethereum Foundation is launching a pre-Shangdong testnet',\n",
       "  'Rishi Sunak appointed prime minister after Liz Truss resigned. Key crypto-analysts ask what could happen under his premiership',\n",
       "  'Emergency bond buying expanded for the second time this week. Bitcoin, ethereum prices fall below $1tn level',\n",
       "  'Cronos is among the top 10 blockchains with close to 1 million users.'],\n",
       " 'TSLA': ['Work has been halted on existing EV projects, sources say',\n",
       "  'Tesla’s Elon Musk offers ‘peace’ plan for Ukraine',\n",
       "  'Musk has until Friday to complete the deal. Primary financiers Morgan Stanley, Bank of America and Barclays',\n",
       "  'FT World columnists offer in-depth analysis, in-depth features.',\n",
       "  'Facebook parent’s stock is lower today than where it traded in 2017. Over the last five years, Chevron has beaten Meta in total returns',\n",
       "  'Starbucks to buy back some of its own stock.',\n",
       "  'Elon Musk has four days to close his deal or face trial. Experts say he is likely to pay millions more in legal fees',\n",
       "  'Musk recently held a meeting in the state, sources say. Tesla has no immediate plans to set up shop in Nuevo Leon',\n",
       "  '‘A threat of this magnitude is reckless,’ says draft of open letter. Musk must complete his $44 billion acquisition by Friday',\n",
       "  'Musk says ‘ factories are running at full speed,’ trucks to be ‘sick’. Tesla’s next big product launch won’t be until 2023'],\n",
       " 'BTC': ['Consumer prices rose 8.2% in September from a year earlier. Bitcoin climbed back above Futures on the S&P 500 after the release',\n",
       "  'Cathie Wood says she bought $100,000 worth of bitcoin in 2015. ARK Next Generation Internet Fund holds about 5.9 million shares of GBTC',\n",
       "  'We are aware of the issue and are working to resolve it.',\n",
       "  'Analysts claim a price indicator is pointing to a significant move.',\n",
       "  'Grandparents, Bitcoin (BTC) and Litecoin (LTC) are showing signs of age.',\n",
       "  'Australia says central bank digital currency will be treated as foreign currency.',\n",
       "  'Rishi Sunak appointed prime minister after Liz Truss resigned. Key crypto-analysts ask what could happen under his premiership',\n",
       "  'About six to ten miners in pipeline, CEO says. DeFi loans are being offered on a ‘full recourse’ basis',\n",
       "  'Sterling falls to record low against dollar on Friday. Bitcoin made a surprise rally as equity markets slide',\n",
       "  'Peter Brandt expects coin’s price to bottom at $13,000. Says Fed needs to ‘regain its credibility’: Brandt']}"
      ]
     },
     "execution_count": 90,
     "metadata": {},
     "output_type": "execute_result"
    }
   ],
   "source": [
    "summaries"
   ]
  },
  {
   "cell_type": "code",
   "execution_count": 91,
   "id": "ae775762",
   "metadata": {},
   "outputs": [
    {
     "data": {
      "text/plain": [
       "{'ETH': [{'label': 'NEGATIVE', 'score': 0.999365508556366},\n",
       "  {'label': 'NEGATIVE', 'score': 0.8471165299415588},\n",
       "  {'label': 'POSITIVE', 'score': 0.6509277820587158},\n",
       "  {'label': 'NEGATIVE', 'score': 0.5154085755348206},\n",
       "  {'label': 'NEGATIVE', 'score': 0.9586257338523865},\n",
       "  {'label': 'NEGATIVE', 'score': 0.9961395859718323},\n",
       "  {'label': 'NEGATIVE', 'score': 0.9860681295394897},\n",
       "  {'label': 'NEGATIVE', 'score': 0.9811481833457947},\n",
       "  {'label': 'NEGATIVE', 'score': 0.9978916049003601},\n",
       "  {'label': 'POSITIVE', 'score': 0.9870172142982483}],\n",
       " 'TSLA': [{'label': 'NEGATIVE', 'score': 0.9994420409202576},\n",
       "  {'label': 'POSITIVE', 'score': 0.9971206188201904},\n",
       "  {'label': 'NEGATIVE', 'score': 0.6654184460639954},\n",
       "  {'label': 'POSITIVE', 'score': 0.9985582232475281},\n",
       "  {'label': 'NEGATIVE', 'score': 0.9994505047798157},\n",
       "  {'label': 'NEGATIVE', 'score': 0.9938549399375916},\n",
       "  {'label': 'NEGATIVE', 'score': 0.9967318773269653},\n",
       "  {'label': 'NEGATIVE', 'score': 0.9980599284172058},\n",
       "  {'label': 'NEGATIVE', 'score': 0.9948495030403137},\n",
       "  {'label': 'NEGATIVE', 'score': 0.9968855977058411}],\n",
       " 'BTC': [{'label': 'POSITIVE', 'score': 0.5207523107528687},\n",
       "  {'label': 'NEGATIVE', 'score': 0.8885747790336609},\n",
       "  {'label': 'POSITIVE', 'score': 0.9979088306427002},\n",
       "  {'label': 'NEGATIVE', 'score': 0.5154085755348206},\n",
       "  {'label': 'NEGATIVE', 'score': 0.7475226521492004},\n",
       "  {'label': 'NEGATIVE', 'score': 0.9965127110481262},\n",
       "  {'label': 'NEGATIVE', 'score': 0.9811481833457947},\n",
       "  {'label': 'NEGATIVE', 'score': 0.9894652366638184},\n",
       "  {'label': 'NEGATIVE', 'score': 0.8797296285629272},\n",
       "  {'label': 'NEGATIVE', 'score': 0.9996774196624756}]}"
      ]
     },
     "execution_count": 91,
     "metadata": {},
     "output_type": "execute_result"
    }
   ],
   "source": [
    "scores"
   ]
  },
  {
   "cell_type": "code",
   "execution_count": 92,
   "id": "7c0407a4",
   "metadata": {},
   "outputs": [
    {
     "data": {
      "text/plain": [
       "{'ETH': ['https://finance.yahoo.com/news/ethereum-merge-vaults-cryptocurrency-past-020111129.html',\n",
       "  'https://finance.yahoo.com/news/censorship-fork-ethereum-111500357.html',\n",
       "  'https://finance.yahoo.com/news/defi-options-platform-opyns-crab-093839942.html',\n",
       "  'https://uk.finance.yahoo.com/news/bitcoin-price-crypto-ethereum-binance-094851573.html',\n",
       "  'https://finance.yahoo.com/news/reversibility-ethereum-benefits-pitfalls-190719333.html',\n",
       "  'https://finance.yahoo.com/news/celsius-once-solicited-donations-ukraine-073839535.html',\n",
       "  'https://uk.finance.yahoo.com/news/ethereum-price-shanghai-upgrade-090725986.html',\n",
       "  'https://uk.finance.yahoo.com/news/rishi-sunak-crypto-hub-bitcoin-123727766.html',\n",
       "  'https://uk.finance.yahoo.com/news/bitcoin-ethereum-price-latest-crypto-market-093018342.html',\n",
       "  'https://finance.yahoo.com/news/interview-cronos-provides-first-ethereum-130310177.html'],\n",
       " 'TSLA': ['https://www.reuters.com/business/autos-transportation/exclusive-toyota-scrambles-ev-reboot-with-eye-tesla-2022-10-24/',\n",
       "  'https://www.cnn.com/2022/10/18/opinions/elon-musk-russia-ukraine-putin-xi-china-ghitis/index.html',\n",
       "  'https://www.forbes.com/sites/dereksaul/2022/10/25/elon-musk-reportedly-tells-bankers-hell-buy-twitter-by-friday-deadline/',\n",
       "  'https://www.ft.com/content/36933732-ce1a-4f5c-9345-0a96e4aa2715',\n",
       "  'https://www.marketwatch.com/story/this-stock-is-likely-to-outperform-tesla-just-like-chevron-stock-has-beaten-meta-platforms-11666717326',\n",
       "  'https://www.cnbc.com/2022/10/25/morgan-stanley-cuts-tesla-price-target-warns-of-unexpected-headwinds-ahead.html',\n",
       "  'https://www.businessinsider.com/elon-musk-must-close-twitter-deal-or-trial-resumes-2022-10',\n",
       "  'https://www.reuters.com/business/autos-transportation/elon-musk-eyes-potential-investment-mexicos-nuevo-leon-state-sources-2022-10-24/',\n",
       "  'https://time.com/6224380/elon-musk-twitter-open-letter/',\n",
       "  'https://www.theverge.com/2022/10/20/23414347/elon-musk-tesla-earnings-twitter-cybertruck-fsd-twitter'],\n",
       " 'BTC': ['https://finance.yahoo.com/news/first-mover-americas-bitcoin-falls-125101724.html',\n",
       "  'https://finance.yahoo.com/news/cathie-wood-still-holds-bitcoin-211053405.html',\n",
       "  'https://finance.yahoo.com/news/100x-better-gold-michael-saylor-153000898.html',\n",
       "  'https://uk.finance.yahoo.com/news/bitcoin-price-crypto-ethereum-binance-094851573.html',\n",
       "  'https://finance.yahoo.com/news/ancient-bitcoin-litecoin-struggle-keep-071510637.html',\n",
       "  'https://finance.yahoo.com/news/crypto-industry-disappointed-australia-looks-052322353.html',\n",
       "  'https://uk.finance.yahoo.com/news/rishi-sunak-crypto-hub-bitcoin-123727766.html',\n",
       "  'https://finance.yahoo.com/news/struggling-bitcoin-miners-flocking-maple-190736075.html',\n",
       "  'https://uk.finance.yahoo.com/news/bitcoin-price-pound-dollar-124913124.html',\n",
       "  'https://finance.yahoo.com/news/peter-brandt-btc-hit-time-184305478.html']}"
      ]
     },
     "execution_count": 92,
     "metadata": {},
     "output_type": "execute_result"
    }
   ],
   "source": [
    "cleaned_urls"
   ]
  },
  {
   "cell_type": "code",
   "execution_count": 93,
   "id": "2faa3a15",
   "metadata": {},
   "outputs": [
    {
     "data": {
      "text/plain": [
       "range(0, 10)"
      ]
     },
     "execution_count": 93,
     "metadata": {},
     "output_type": "execute_result"
    }
   ],
   "source": [
    "range(len(summaries['ETH']))"
   ]
  },
  {
   "cell_type": "code",
   "execution_count": 97,
   "id": "4dd8bb4a",
   "metadata": {},
   "outputs": [
    {
     "data": {
      "text/plain": [
       "'‘A threat of this magnitude is reckless,’ says draft of open letter. Musk must complete his $44 billion acquisition by Friday'"
      ]
     },
     "execution_count": 97,
     "metadata": {},
     "output_type": "execute_result"
    }
   ],
   "source": [
    "summaries['TSLA'][8]"
   ]
  },
  {
   "cell_type": "code",
   "execution_count": 99,
   "id": "57d87eec",
   "metadata": {},
   "outputs": [
    {
     "name": "stdout",
     "output_type": "stream",
     "text": [
      "‘A threat of this magnitude is reckless,’ says draft of open letter. Musk must complete his $44 billion acquisition by Friday NEGATIVE 0.9948495030403137\n"
     ]
    }
   ],
   "source": [
    "print(summaries['TSLA'][8], scores['TSLA'][8]['label'], scores['TSLA'][8]['score'])"
   ]
  },
  {
   "cell_type": "code",
   "execution_count": 100,
   "id": "f3f104a6",
   "metadata": {},
   "outputs": [],
   "source": [
    "def create_output_array(summaries, scores, urls):\n",
    "    output = []\n",
    "    for ticker in monitored_tickers:\n",
    "        for counter in range(len(summaries[ticker])):\n",
    "            output_this = [\n",
    "                ticker,\n",
    "                summaries[ticker][counter],\n",
    "                scores[ticker][counter]['label'],\n",
    "                scores[ticker][counter]['score'],\n",
    "                urls[ticker][counter]\n",
    "            ]\n",
    "            output.append(output_this)\n",
    "    return output"
   ]
  },
  {
   "cell_type": "code",
   "execution_count": 101,
   "id": "03ae5b32",
   "metadata": {},
   "outputs": [
    {
     "data": {
      "text/plain": [
       "[['ETH',\n",
       "  'Ethereum’s net issuance rate has fallen since the Merge. Bitcoin’s inflation rate is currently about 1.75%',\n",
       "  'NEGATIVE',\n",
       "  0.999365508556366,\n",
       "  'https://finance.yahoo.com/news/ethereum-merge-vaults-cryptocurrency-past-020111129.html'],\n",
       " ['ETH',\n",
       "  'Core principles like ‘credible neutrality’ seen at odds with regulators. Two versions of the Chain: one regulated, one not',\n",
       "  'NEGATIVE',\n",
       "  0.8471165299415588,\n",
       "  'https://finance.yahoo.com/news/censorship-fork-ethereum-111500357.html'],\n",
       " ['ETH',\n",
       "  'Ether has dropped 20% since the end of July, but has rebounded in past four weeks. DeFi option platform Opyn says it has seen a 505% increase in users.',\n",
       "  'POSITIVE',\n",
       "  0.6509277820587158,\n",
       "  'https://finance.yahoo.com/news/defi-options-platform-opyns-crab-093839942.html'],\n",
       " ['ETH',\n",
       "  'Analysts claim a price indicator is pointing to a significant move.',\n",
       "  'NEGATIVE',\n",
       "  0.5154085755348206,\n",
       "  'https://uk.finance.yahoo.com/news/bitcoin-price-crypto-ethereum-binance-094851573.html'],\n",
       " ['ETH',\n",
       "  'Reversibility would probably be a popular feature, especially among risk-averse. Stanford researchers don’t intend for Ethereum to be 100% reversible',\n",
       "  'NEGATIVE',\n",
       "  0.9586257338523865,\n",
       "  'https://finance.yahoo.com/news/reversibility-ethereum-benefits-pitfalls-190719333.html'],\n",
       " ['ETH',\n",
       "  'Critics question whether donations went to the right place. Bitcoin and Ether donations flowed to Celsius-controlled wallets',\n",
       "  'NEGATIVE',\n",
       "  0.9961395859718323,\n",
       "  'https://finance.yahoo.com/news/celsius-once-solicited-donations-ukraine-073839535.html'],\n",
       " ['ETH',\n",
       "  'The Ethereum Foundation is working on the next major upgrade. Ethereum Foundation is launching a pre-Shangdong testnet',\n",
       "  'NEGATIVE',\n",
       "  0.9860681295394897,\n",
       "  'https://uk.finance.yahoo.com/news/ethereum-price-shanghai-upgrade-090725986.html'],\n",
       " ['ETH',\n",
       "  'Rishi Sunak appointed prime minister after Liz Truss resigned. Key crypto-analysts ask what could happen under his premiership',\n",
       "  'NEGATIVE',\n",
       "  0.9811481833457947,\n",
       "  'https://uk.finance.yahoo.com/news/rishi-sunak-crypto-hub-bitcoin-123727766.html'],\n",
       " ['ETH',\n",
       "  'Emergency bond buying expanded for the second time this week. Bitcoin, ethereum prices fall below $1tn level',\n",
       "  'NEGATIVE',\n",
       "  0.9978916049003601,\n",
       "  'https://uk.finance.yahoo.com/news/bitcoin-ethereum-price-latest-crypto-market-093018342.html'],\n",
       " ['ETH',\n",
       "  'Cronos is among the top 10 blockchains with close to 1 million users.',\n",
       "  'POSITIVE',\n",
       "  0.9870172142982483,\n",
       "  'https://finance.yahoo.com/news/interview-cronos-provides-first-ethereum-130310177.html'],\n",
       " ['TSLA',\n",
       "  'Work has been halted on existing EV projects, sources say',\n",
       "  'NEGATIVE',\n",
       "  0.9994420409202576,\n",
       "  'https://www.reuters.com/business/autos-transportation/exclusive-toyota-scrambles-ev-reboot-with-eye-tesla-2022-10-24/'],\n",
       " ['TSLA',\n",
       "  'Tesla’s Elon Musk offers ‘peace’ plan for Ukraine',\n",
       "  'POSITIVE',\n",
       "  0.9971206188201904,\n",
       "  'https://www.cnn.com/2022/10/18/opinions/elon-musk-russia-ukraine-putin-xi-china-ghitis/index.html'],\n",
       " ['TSLA',\n",
       "  'Musk has until Friday to complete the deal. Primary financiers Morgan Stanley, Bank of America and Barclays',\n",
       "  'NEGATIVE',\n",
       "  0.6654184460639954,\n",
       "  'https://www.forbes.com/sites/dereksaul/2022/10/25/elon-musk-reportedly-tells-bankers-hell-buy-twitter-by-friday-deadline/'],\n",
       " ['TSLA',\n",
       "  'FT World columnists offer in-depth analysis, in-depth features.',\n",
       "  'POSITIVE',\n",
       "  0.9985582232475281,\n",
       "  'https://www.ft.com/content/36933732-ce1a-4f5c-9345-0a96e4aa2715'],\n",
       " ['TSLA',\n",
       "  'Facebook parent’s stock is lower today than where it traded in 2017. Over the last five years, Chevron has beaten Meta in total returns',\n",
       "  'NEGATIVE',\n",
       "  0.9994505047798157,\n",
       "  'https://www.marketwatch.com/story/this-stock-is-likely-to-outperform-tesla-just-like-chevron-stock-has-beaten-meta-platforms-11666717326'],\n",
       " ['TSLA',\n",
       "  'Starbucks to buy back some of its own stock.',\n",
       "  'NEGATIVE',\n",
       "  0.9938549399375916,\n",
       "  'https://www.cnbc.com/2022/10/25/morgan-stanley-cuts-tesla-price-target-warns-of-unexpected-headwinds-ahead.html'],\n",
       " ['TSLA',\n",
       "  'Elon Musk has four days to close his deal or face trial. Experts say he is likely to pay millions more in legal fees',\n",
       "  'NEGATIVE',\n",
       "  0.9967318773269653,\n",
       "  'https://www.businessinsider.com/elon-musk-must-close-twitter-deal-or-trial-resumes-2022-10'],\n",
       " ['TSLA',\n",
       "  'Musk recently held a meeting in the state, sources say. Tesla has no immediate plans to set up shop in Nuevo Leon',\n",
       "  'NEGATIVE',\n",
       "  0.9980599284172058,\n",
       "  'https://www.reuters.com/business/autos-transportation/elon-musk-eyes-potential-investment-mexicos-nuevo-leon-state-sources-2022-10-24/'],\n",
       " ['TSLA',\n",
       "  '‘A threat of this magnitude is reckless,’ says draft of open letter. Musk must complete his $44 billion acquisition by Friday',\n",
       "  'NEGATIVE',\n",
       "  0.9948495030403137,\n",
       "  'https://time.com/6224380/elon-musk-twitter-open-letter/'],\n",
       " ['TSLA',\n",
       "  'Musk says ‘ factories are running at full speed,’ trucks to be ‘sick’. Tesla’s next big product launch won’t be until 2023',\n",
       "  'NEGATIVE',\n",
       "  0.9968855977058411,\n",
       "  'https://www.theverge.com/2022/10/20/23414347/elon-musk-tesla-earnings-twitter-cybertruck-fsd-twitter'],\n",
       " ['BTC',\n",
       "  'Consumer prices rose 8.2% in September from a year earlier. Bitcoin climbed back above Futures on the S&P 500 after the release',\n",
       "  'POSITIVE',\n",
       "  0.5207523107528687,\n",
       "  'https://finance.yahoo.com/news/first-mover-americas-bitcoin-falls-125101724.html'],\n",
       " ['BTC',\n",
       "  'Cathie Wood says she bought $100,000 worth of bitcoin in 2015. ARK Next Generation Internet Fund holds about 5.9 million shares of GBTC',\n",
       "  'NEGATIVE',\n",
       "  0.8885747790336609,\n",
       "  'https://finance.yahoo.com/news/cathie-wood-still-holds-bitcoin-211053405.html'],\n",
       " ['BTC',\n",
       "  'We are aware of the issue and are working to resolve it.',\n",
       "  'POSITIVE',\n",
       "  0.9979088306427002,\n",
       "  'https://finance.yahoo.com/news/100x-better-gold-michael-saylor-153000898.html'],\n",
       " ['BTC',\n",
       "  'Analysts claim a price indicator is pointing to a significant move.',\n",
       "  'NEGATIVE',\n",
       "  0.5154085755348206,\n",
       "  'https://uk.finance.yahoo.com/news/bitcoin-price-crypto-ethereum-binance-094851573.html'],\n",
       " ['BTC',\n",
       "  'Grandparents, Bitcoin (BTC) and Litecoin (LTC) are showing signs of age.',\n",
       "  'NEGATIVE',\n",
       "  0.7475226521492004,\n",
       "  'https://finance.yahoo.com/news/ancient-bitcoin-litecoin-struggle-keep-071510637.html'],\n",
       " ['BTC',\n",
       "  'Australia says central bank digital currency will be treated as foreign currency.',\n",
       "  'NEGATIVE',\n",
       "  0.9965127110481262,\n",
       "  'https://finance.yahoo.com/news/crypto-industry-disappointed-australia-looks-052322353.html'],\n",
       " ['BTC',\n",
       "  'Rishi Sunak appointed prime minister after Liz Truss resigned. Key crypto-analysts ask what could happen under his premiership',\n",
       "  'NEGATIVE',\n",
       "  0.9811481833457947,\n",
       "  'https://uk.finance.yahoo.com/news/rishi-sunak-crypto-hub-bitcoin-123727766.html'],\n",
       " ['BTC',\n",
       "  'About six to ten miners in pipeline, CEO says. DeFi loans are being offered on a ‘full recourse’ basis',\n",
       "  'NEGATIVE',\n",
       "  0.9894652366638184,\n",
       "  'https://finance.yahoo.com/news/struggling-bitcoin-miners-flocking-maple-190736075.html'],\n",
       " ['BTC',\n",
       "  'Sterling falls to record low against dollar on Friday. Bitcoin made a surprise rally as equity markets slide',\n",
       "  'NEGATIVE',\n",
       "  0.8797296285629272,\n",
       "  'https://uk.finance.yahoo.com/news/bitcoin-price-pound-dollar-124913124.html'],\n",
       " ['BTC',\n",
       "  'Peter Brandt expects coin’s price to bottom at $13,000. Says Fed needs to ‘regain its credibility’: Brandt',\n",
       "  'NEGATIVE',\n",
       "  0.9996774196624756,\n",
       "  'https://finance.yahoo.com/news/peter-brandt-btc-hit-time-184305478.html']]"
      ]
     },
     "execution_count": 101,
     "metadata": {},
     "output_type": "execute_result"
    }
   ],
   "source": [
    "final_output = create_output_array(summaries, scores, cleaned_urls)\n",
    "final_output"
   ]
  },
  {
   "cell_type": "code",
   "execution_count": 102,
   "id": "a6408d26",
   "metadata": {},
   "outputs": [],
   "source": [
    "final_output.insert(0, ['Ticker', 'Summary', 'Label', 'Confidence', 'URL'])"
   ]
  },
  {
   "cell_type": "code",
   "execution_count": 108,
   "id": "f11ea910",
   "metadata": {},
   "outputs": [
    {
     "data": {
      "text/plain": [
       "[['Ticker', 'Summary', 'Label', 'Confidence', 'URL'],\n",
       " ['ETH',\n",
       "  'Ethereum’s net issuance rate has fallen since the Merge. Bitcoin’s inflation rate is currently about 1.75%',\n",
       "  'NEGATIVE',\n",
       "  0.999365508556366,\n",
       "  'https://finance.yahoo.com/news/ethereum-merge-vaults-cryptocurrency-past-020111129.html'],\n",
       " ['ETH',\n",
       "  'Core principles like ‘credible neutrality’ seen at odds with regulators. Two versions of the Chain: one regulated, one not',\n",
       "  'NEGATIVE',\n",
       "  0.8471165299415588,\n",
       "  'https://finance.yahoo.com/news/censorship-fork-ethereum-111500357.html'],\n",
       " ['ETH',\n",
       "  'Ether has dropped 20% since the end of July, but has rebounded in past four weeks. DeFi option platform Opyn says it has seen a 505% increase in users.',\n",
       "  'POSITIVE',\n",
       "  0.6509277820587158,\n",
       "  'https://finance.yahoo.com/news/defi-options-platform-opyns-crab-093839942.html'],\n",
       " ['ETH',\n",
       "  'Analysts claim a price indicator is pointing to a significant move.',\n",
       "  'NEGATIVE',\n",
       "  0.5154085755348206,\n",
       "  'https://uk.finance.yahoo.com/news/bitcoin-price-crypto-ethereum-binance-094851573.html'],\n",
       " ['ETH',\n",
       "  'Reversibility would probably be a popular feature, especially among risk-averse. Stanford researchers don’t intend for Ethereum to be 100% reversible',\n",
       "  'NEGATIVE',\n",
       "  0.9586257338523865,\n",
       "  'https://finance.yahoo.com/news/reversibility-ethereum-benefits-pitfalls-190719333.html'],\n",
       " ['ETH',\n",
       "  'Critics question whether donations went to the right place. Bitcoin and Ether donations flowed to Celsius-controlled wallets',\n",
       "  'NEGATIVE',\n",
       "  0.9961395859718323,\n",
       "  'https://finance.yahoo.com/news/celsius-once-solicited-donations-ukraine-073839535.html'],\n",
       " ['ETH',\n",
       "  'The Ethereum Foundation is working on the next major upgrade. Ethereum Foundation is launching a pre-Shangdong testnet',\n",
       "  'NEGATIVE',\n",
       "  0.9860681295394897,\n",
       "  'https://uk.finance.yahoo.com/news/ethereum-price-shanghai-upgrade-090725986.html'],\n",
       " ['ETH',\n",
       "  'Rishi Sunak appointed prime minister after Liz Truss resigned. Key crypto-analysts ask what could happen under his premiership',\n",
       "  'NEGATIVE',\n",
       "  0.9811481833457947,\n",
       "  'https://uk.finance.yahoo.com/news/rishi-sunak-crypto-hub-bitcoin-123727766.html'],\n",
       " ['ETH',\n",
       "  'Emergency bond buying expanded for the second time this week. Bitcoin, ethereum prices fall below $1tn level',\n",
       "  'NEGATIVE',\n",
       "  0.9978916049003601,\n",
       "  'https://uk.finance.yahoo.com/news/bitcoin-ethereum-price-latest-crypto-market-093018342.html'],\n",
       " ['ETH',\n",
       "  'Cronos is among the top 10 blockchains with close to 1 million users.',\n",
       "  'POSITIVE',\n",
       "  0.9870172142982483,\n",
       "  'https://finance.yahoo.com/news/interview-cronos-provides-first-ethereum-130310177.html'],\n",
       " ['TSLA',\n",
       "  'Work has been halted on existing EV projects, sources say',\n",
       "  'NEGATIVE',\n",
       "  0.9994420409202576,\n",
       "  'https://www.reuters.com/business/autos-transportation/exclusive-toyota-scrambles-ev-reboot-with-eye-tesla-2022-10-24/'],\n",
       " ['TSLA',\n",
       "  'Tesla’s Elon Musk offers ‘peace’ plan for Ukraine',\n",
       "  'POSITIVE',\n",
       "  0.9971206188201904,\n",
       "  'https://www.cnn.com/2022/10/18/opinions/elon-musk-russia-ukraine-putin-xi-china-ghitis/index.html'],\n",
       " ['TSLA',\n",
       "  'Musk has until Friday to complete the deal. Primary financiers Morgan Stanley, Bank of America and Barclays',\n",
       "  'NEGATIVE',\n",
       "  0.6654184460639954,\n",
       "  'https://www.forbes.com/sites/dereksaul/2022/10/25/elon-musk-reportedly-tells-bankers-hell-buy-twitter-by-friday-deadline/'],\n",
       " ['TSLA',\n",
       "  'FT World columnists offer in-depth analysis, in-depth features.',\n",
       "  'POSITIVE',\n",
       "  0.9985582232475281,\n",
       "  'https://www.ft.com/content/36933732-ce1a-4f5c-9345-0a96e4aa2715'],\n",
       " ['TSLA',\n",
       "  'Facebook parent’s stock is lower today than where it traded in 2017. Over the last five years, Chevron has beaten Meta in total returns',\n",
       "  'NEGATIVE',\n",
       "  0.9994505047798157,\n",
       "  'https://www.marketwatch.com/story/this-stock-is-likely-to-outperform-tesla-just-like-chevron-stock-has-beaten-meta-platforms-11666717326'],\n",
       " ['TSLA',\n",
       "  'Starbucks to buy back some of its own stock.',\n",
       "  'NEGATIVE',\n",
       "  0.9938549399375916,\n",
       "  'https://www.cnbc.com/2022/10/25/morgan-stanley-cuts-tesla-price-target-warns-of-unexpected-headwinds-ahead.html'],\n",
       " ['TSLA',\n",
       "  'Elon Musk has four days to close his deal or face trial. Experts say he is likely to pay millions more in legal fees',\n",
       "  'NEGATIVE',\n",
       "  0.9967318773269653,\n",
       "  'https://www.businessinsider.com/elon-musk-must-close-twitter-deal-or-trial-resumes-2022-10'],\n",
       " ['TSLA',\n",
       "  'Musk recently held a meeting in the state, sources say. Tesla has no immediate plans to set up shop in Nuevo Leon',\n",
       "  'NEGATIVE',\n",
       "  0.9980599284172058,\n",
       "  'https://www.reuters.com/business/autos-transportation/elon-musk-eyes-potential-investment-mexicos-nuevo-leon-state-sources-2022-10-24/'],\n",
       " ['TSLA',\n",
       "  '‘A threat of this magnitude is reckless,’ says draft of open letter. Musk must complete his $44 billion acquisition by Friday',\n",
       "  'NEGATIVE',\n",
       "  0.9948495030403137,\n",
       "  'https://time.com/6224380/elon-musk-twitter-open-letter/'],\n",
       " ['TSLA',\n",
       "  'Musk says ‘ factories are running at full speed,’ trucks to be ‘sick’. Tesla’s next big product launch won’t be until 2023',\n",
       "  'NEGATIVE',\n",
       "  0.9968855977058411,\n",
       "  'https://www.theverge.com/2022/10/20/23414347/elon-musk-tesla-earnings-twitter-cybertruck-fsd-twitter'],\n",
       " ['BTC',\n",
       "  'Consumer prices rose 8.2% in September from a year earlier. Bitcoin climbed back above Futures on the S&P 500 after the release',\n",
       "  'POSITIVE',\n",
       "  0.5207523107528687,\n",
       "  'https://finance.yahoo.com/news/first-mover-americas-bitcoin-falls-125101724.html'],\n",
       " ['BTC',\n",
       "  'Cathie Wood says she bought $100,000 worth of bitcoin in 2015. ARK Next Generation Internet Fund holds about 5.9 million shares of GBTC',\n",
       "  'NEGATIVE',\n",
       "  0.8885747790336609,\n",
       "  'https://finance.yahoo.com/news/cathie-wood-still-holds-bitcoin-211053405.html'],\n",
       " ['BTC',\n",
       "  'We are aware of the issue and are working to resolve it.',\n",
       "  'POSITIVE',\n",
       "  0.9979088306427002,\n",
       "  'https://finance.yahoo.com/news/100x-better-gold-michael-saylor-153000898.html'],\n",
       " ['BTC',\n",
       "  'Analysts claim a price indicator is pointing to a significant move.',\n",
       "  'NEGATIVE',\n",
       "  0.5154085755348206,\n",
       "  'https://uk.finance.yahoo.com/news/bitcoin-price-crypto-ethereum-binance-094851573.html'],\n",
       " ['BTC',\n",
       "  'Grandparents, Bitcoin (BTC) and Litecoin (LTC) are showing signs of age.',\n",
       "  'NEGATIVE',\n",
       "  0.7475226521492004,\n",
       "  'https://finance.yahoo.com/news/ancient-bitcoin-litecoin-struggle-keep-071510637.html'],\n",
       " ['BTC',\n",
       "  'Australia says central bank digital currency will be treated as foreign currency.',\n",
       "  'NEGATIVE',\n",
       "  0.9965127110481262,\n",
       "  'https://finance.yahoo.com/news/crypto-industry-disappointed-australia-looks-052322353.html'],\n",
       " ['BTC',\n",
       "  'Rishi Sunak appointed prime minister after Liz Truss resigned. Key crypto-analysts ask what could happen under his premiership',\n",
       "  'NEGATIVE',\n",
       "  0.9811481833457947,\n",
       "  'https://uk.finance.yahoo.com/news/rishi-sunak-crypto-hub-bitcoin-123727766.html'],\n",
       " ['BTC',\n",
       "  'About six to ten miners in pipeline, CEO says. DeFi loans are being offered on a ‘full recourse’ basis',\n",
       "  'NEGATIVE',\n",
       "  0.9894652366638184,\n",
       "  'https://finance.yahoo.com/news/struggling-bitcoin-miners-flocking-maple-190736075.html'],\n",
       " ['BTC',\n",
       "  'Sterling falls to record low against dollar on Friday. Bitcoin made a surprise rally as equity markets slide',\n",
       "  'NEGATIVE',\n",
       "  0.8797296285629272,\n",
       "  'https://uk.finance.yahoo.com/news/bitcoin-price-pound-dollar-124913124.html'],\n",
       " ['BTC',\n",
       "  'Peter Brandt expects coin’s price to bottom at $13,000. Says Fed needs to ‘regain its credibility’: Brandt',\n",
       "  'NEGATIVE',\n",
       "  0.9996774196624756,\n",
       "  'https://finance.yahoo.com/news/peter-brandt-btc-hit-time-184305478.html']]"
      ]
     },
     "execution_count": 108,
     "metadata": {},
     "output_type": "execute_result"
    }
   ],
   "source": [
    "final_output"
   ]
  },
  {
   "cell_type": "code",
   "execution_count": 110,
   "id": "59715777",
   "metadata": {},
   "outputs": [],
   "source": [
    "import csv\n",
    "with open('assetsummaries.csv', mode='w', newline='') as f:\n",
    "    csv_writer = csv.writer(f, delimiter=',', quotechar='\"', quoting=csv.QUOTE_MINIMAL)\n",
    "    csv_writer.writerows(final_output)"
   ]
  },
  {
   "cell_type": "code",
   "execution_count": null,
   "id": "48affbba",
   "metadata": {},
   "outputs": [],
   "source": []
  }
 ],
 "metadata": {
  "kernelspec": {
   "display_name": "Python 3",
   "language": "python",
   "name": "python3"
  },
  "language_info": {
   "codemirror_mode": {
    "name": "ipython",
    "version": 3
   },
   "file_extension": ".py",
   "mimetype": "text/x-python",
   "name": "python",
   "nbconvert_exporter": "python",
   "pygments_lexer": "ipython3",
   "version": "3.8.8"
  }
 },
 "nbformat": 4,
 "nbformat_minor": 5
}
